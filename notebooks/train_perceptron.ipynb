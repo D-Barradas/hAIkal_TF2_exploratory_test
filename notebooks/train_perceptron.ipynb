{
 "cells": [
  {
   "cell_type": "code",
   "execution_count": 2,
   "metadata": {},
   "outputs": [],
   "source": [
    "from libray import *"
   ]
  },
  {
   "cell_type": "code",
   "execution_count": 3,
   "metadata": {},
   "outputs": [],
   "source": [
    "from sklearn.neural_network import MLPClassifier"
   ]
  },
  {
   "cell_type": "code",
   "execution_count": 4,
   "metadata": {},
   "outputs": [],
   "source": [
    "x_train, y_train,x_val , y_val, x_test , y_test , x_val_bal , y_val_bal , x_test_bal , y_test_bal, x_ml_classifer, x_ml_classifer_test = read_data()"
   ]
  },
  {
   "cell_type": "code",
   "execution_count": 52,
   "metadata": {},
   "outputs": [],
   "source": [
    "x_train_gold, y_train_gold = read_data_gold_data_RF()"
   ]
  },
  {
   "cell_type": "code",
   "execution_count": 53,
   "metadata": {},
   "outputs": [
    {
     "data": {
      "text/plain": [
       "Index(['CONSRANK_val', 'CP_HLPL', 'CP_MJ3h', 'DDG_V', 'CP_RMFCA',\n",
       "       'AP_GOAP_DF'],\n",
       "      dtype='object')"
      ]
     },
     "execution_count": 53,
     "metadata": {},
     "output_type": "execute_result"
    }
   ],
   "source": [
    "x_train.columns"
   ]
  },
  {
   "cell_type": "code",
   "execution_count": 54,
   "metadata": {},
   "outputs": [
    {
     "data": {
      "text/html": [
       "<div>\n",
       "<style scoped>\n",
       "    .dataframe tbody tr th:only-of-type {\n",
       "        vertical-align: middle;\n",
       "    }\n",
       "\n",
       "    .dataframe tbody tr th {\n",
       "        vertical-align: top;\n",
       "    }\n",
       "\n",
       "    .dataframe thead th {\n",
       "        text-align: right;\n",
       "    }\n",
       "</style>\n",
       "<table border=\"1\" class=\"dataframe\">\n",
       "  <thead>\n",
       "    <tr style=\"text-align: right;\">\n",
       "      <th></th>\n",
       "      <th>CONSRANK_val</th>\n",
       "      <th>CP_HLPL</th>\n",
       "      <th>CP_MJ3h</th>\n",
       "      <th>DDG_V</th>\n",
       "      <th>CP_RMFCA</th>\n",
       "      <th>AP_GOAP_DF</th>\n",
       "    </tr>\n",
       "    <tr>\n",
       "      <th>Conf</th>\n",
       "      <th></th>\n",
       "      <th></th>\n",
       "      <th></th>\n",
       "      <th></th>\n",
       "      <th></th>\n",
       "      <th></th>\n",
       "    </tr>\n",
       "  </thead>\n",
       "  <tbody>\n",
       "    <tr>\n",
       "      <th>F_1EXB_1006_I.pdb</th>\n",
       "      <td>0.001748</td>\n",
       "      <td>0.736018</td>\n",
       "      <td>0.710550</td>\n",
       "      <td>0.782688</td>\n",
       "      <td>0.790792</td>\n",
       "      <td>0.721292</td>\n",
       "    </tr>\n",
       "    <tr>\n",
       "      <th>F_1EXB_1027_I.pdb</th>\n",
       "      <td>0.001116</td>\n",
       "      <td>0.543624</td>\n",
       "      <td>0.736239</td>\n",
       "      <td>0.583189</td>\n",
       "      <td>0.637449</td>\n",
       "      <td>0.721292</td>\n",
       "    </tr>\n",
       "    <tr>\n",
       "      <th>F_1EXB_1030_I.pdb</th>\n",
       "      <td>0.001695</td>\n",
       "      <td>0.791946</td>\n",
       "      <td>0.761927</td>\n",
       "      <td>0.824361</td>\n",
       "      <td>0.784954</td>\n",
       "      <td>0.721292</td>\n",
       "    </tr>\n",
       "    <tr>\n",
       "      <th>F_1EXB_1042_I.pdb</th>\n",
       "      <td>0.001909</td>\n",
       "      <td>0.749441</td>\n",
       "      <td>0.788991</td>\n",
       "      <td>0.647396</td>\n",
       "      <td>0.790252</td>\n",
       "      <td>0.721292</td>\n",
       "    </tr>\n",
       "    <tr>\n",
       "      <th>F_1EXB_1051_I.pdb</th>\n",
       "      <td>0.000283</td>\n",
       "      <td>0.653244</td>\n",
       "      <td>0.573394</td>\n",
       "      <td>0.710211</td>\n",
       "      <td>0.764343</td>\n",
       "      <td>0.721292</td>\n",
       "    </tr>\n",
       "    <tr>\n",
       "      <th>...</th>\n",
       "      <td>...</td>\n",
       "      <td>...</td>\n",
       "      <td>...</td>\n",
       "      <td>...</td>\n",
       "      <td>...</td>\n",
       "      <td>...</td>\n",
       "    </tr>\n",
       "    <tr>\n",
       "      <th>Z_2W9E_9945_I.pdb</th>\n",
       "      <td>0.102853</td>\n",
       "      <td>0.561521</td>\n",
       "      <td>0.456422</td>\n",
       "      <td>0.583773</td>\n",
       "      <td>0.678746</td>\n",
       "      <td>0.588665</td>\n",
       "    </tr>\n",
       "    <tr>\n",
       "      <th>Z_2W9E_9951_I.pdb</th>\n",
       "      <td>0.085397</td>\n",
       "      <td>0.512304</td>\n",
       "      <td>0.412385</td>\n",
       "      <td>0.629171</td>\n",
       "      <td>0.700889</td>\n",
       "      <td>0.628922</td>\n",
       "    </tr>\n",
       "    <tr>\n",
       "      <th>Z_2W9E_9958_I.pdb</th>\n",
       "      <td>0.049078</td>\n",
       "      <td>0.626398</td>\n",
       "      <td>0.418807</td>\n",
       "      <td>0.633153</td>\n",
       "      <td>0.678624</td>\n",
       "      <td>0.696119</td>\n",
       "    </tr>\n",
       "    <tr>\n",
       "      <th>Z_2W9E_9967_I.pdb</th>\n",
       "      <td>0.003469</td>\n",
       "      <td>0.563758</td>\n",
       "      <td>0.439450</td>\n",
       "      <td>0.551070</td>\n",
       "      <td>0.691825</td>\n",
       "      <td>0.664915</td>\n",
       "    </tr>\n",
       "    <tr>\n",
       "      <th>Z_2W9E_9995_A.pdb</th>\n",
       "      <td>0.819567</td>\n",
       "      <td>0.498881</td>\n",
       "      <td>0.489450</td>\n",
       "      <td>0.669674</td>\n",
       "      <td>0.702450</td>\n",
       "      <td>0.689278</td>\n",
       "    </tr>\n",
       "  </tbody>\n",
       "</table>\n",
       "<p>157767 rows × 6 columns</p>\n",
       "</div>"
      ],
      "text/plain": [
       "                   CONSRANK_val   CP_HLPL   CP_MJ3h     DDG_V  CP_RMFCA  \\\n",
       "Conf                                                                      \n",
       "F_1EXB_1006_I.pdb      0.001748  0.736018  0.710550  0.782688  0.790792   \n",
       "F_1EXB_1027_I.pdb      0.001116  0.543624  0.736239  0.583189  0.637449   \n",
       "F_1EXB_1030_I.pdb      0.001695  0.791946  0.761927  0.824361  0.784954   \n",
       "F_1EXB_1042_I.pdb      0.001909  0.749441  0.788991  0.647396  0.790252   \n",
       "F_1EXB_1051_I.pdb      0.000283  0.653244  0.573394  0.710211  0.764343   \n",
       "...                         ...       ...       ...       ...       ...   \n",
       "Z_2W9E_9945_I.pdb      0.102853  0.561521  0.456422  0.583773  0.678746   \n",
       "Z_2W9E_9951_I.pdb      0.085397  0.512304  0.412385  0.629171  0.700889   \n",
       "Z_2W9E_9958_I.pdb      0.049078  0.626398  0.418807  0.633153  0.678624   \n",
       "Z_2W9E_9967_I.pdb      0.003469  0.563758  0.439450  0.551070  0.691825   \n",
       "Z_2W9E_9995_A.pdb      0.819567  0.498881  0.489450  0.669674  0.702450   \n",
       "\n",
       "                   AP_GOAP_DF  \n",
       "Conf                           \n",
       "F_1EXB_1006_I.pdb    0.721292  \n",
       "F_1EXB_1027_I.pdb    0.721292  \n",
       "F_1EXB_1030_I.pdb    0.721292  \n",
       "F_1EXB_1042_I.pdb    0.721292  \n",
       "F_1EXB_1051_I.pdb    0.721292  \n",
       "...                       ...  \n",
       "Z_2W9E_9945_I.pdb    0.588665  \n",
       "Z_2W9E_9951_I.pdb    0.628922  \n",
       "Z_2W9E_9958_I.pdb    0.696119  \n",
       "Z_2W9E_9967_I.pdb    0.664915  \n",
       "Z_2W9E_9995_A.pdb    0.689278  \n",
       "\n",
       "[157767 rows x 6 columns]"
      ]
     },
     "execution_count": 54,
     "metadata": {},
     "output_type": "execute_result"
    }
   ],
   "source": [
    "x_val[x_train.columns.to_list()]"
   ]
  },
  {
   "cell_type": "code",
   "execution_count": 55,
   "metadata": {},
   "outputs": [
    {
     "data": {
      "text/plain": [
       "['CONSRANK_val',\n",
       " 'CP_HLPL',\n",
       " 'CP_MJ3h',\n",
       " 'DDG_V',\n",
       " 'CP_RMFCA',\n",
       " 'AP_GOAP_DF',\n",
       " 'TF2',\n",
       " 'NNC']"
      ]
     },
     "execution_count": 55,
     "metadata": {},
     "output_type": "execute_result"
    }
   ],
   "source": [
    "x_train_gold.columns.to_list()"
   ]
  },
  {
   "cell_type": "code",
   "execution_count": 56,
   "metadata": {},
   "outputs": [],
   "source": [
    "PRC = MLPClassifier(activation='relu', alpha=3.6946012051993024e-06, batch_size=512,\n",
    "                                hidden_layer_sizes=(24,), random_state=32,  solver='adam'\n",
    "                               )\n",
    "PCR_gold = MLPClassifier(activation='relu', alpha=3.6946012051993024e-06, batch_size=512,\n",
    "                                hidden_layer_sizes=(24,), random_state=32,  solver='adam'\n",
    "                               )"
   ]
  },
  {
   "cell_type": "code",
   "execution_count": null,
   "metadata": {},
   "outputs": [],
   "source": []
  },
  {
   "cell_type": "code",
   "execution_count": 57,
   "metadata": {},
   "outputs": [
    {
     "data": {
      "text/html": [
       "<style>#sk-container-id-7 {color: black;background-color: white;}#sk-container-id-7 pre{padding: 0;}#sk-container-id-7 div.sk-toggleable {background-color: white;}#sk-container-id-7 label.sk-toggleable__label {cursor: pointer;display: block;width: 100%;margin-bottom: 0;padding: 0.3em;box-sizing: border-box;text-align: center;}#sk-container-id-7 label.sk-toggleable__label-arrow:before {content: \"▸\";float: left;margin-right: 0.25em;color: #696969;}#sk-container-id-7 label.sk-toggleable__label-arrow:hover:before {color: black;}#sk-container-id-7 div.sk-estimator:hover label.sk-toggleable__label-arrow:before {color: black;}#sk-container-id-7 div.sk-toggleable__content {max-height: 0;max-width: 0;overflow: hidden;text-align: left;background-color: #f0f8ff;}#sk-container-id-7 div.sk-toggleable__content pre {margin: 0.2em;color: black;border-radius: 0.25em;background-color: #f0f8ff;}#sk-container-id-7 input.sk-toggleable__control:checked~div.sk-toggleable__content {max-height: 200px;max-width: 100%;overflow: auto;}#sk-container-id-7 input.sk-toggleable__control:checked~label.sk-toggleable__label-arrow:before {content: \"▾\";}#sk-container-id-7 div.sk-estimator input.sk-toggleable__control:checked~label.sk-toggleable__label {background-color: #d4ebff;}#sk-container-id-7 div.sk-label input.sk-toggleable__control:checked~label.sk-toggleable__label {background-color: #d4ebff;}#sk-container-id-7 input.sk-hidden--visually {border: 0;clip: rect(1px 1px 1px 1px);clip: rect(1px, 1px, 1px, 1px);height: 1px;margin: -1px;overflow: hidden;padding: 0;position: absolute;width: 1px;}#sk-container-id-7 div.sk-estimator {font-family: monospace;background-color: #f0f8ff;border: 1px dotted black;border-radius: 0.25em;box-sizing: border-box;margin-bottom: 0.5em;}#sk-container-id-7 div.sk-estimator:hover {background-color: #d4ebff;}#sk-container-id-7 div.sk-parallel-item::after {content: \"\";width: 100%;border-bottom: 1px solid gray;flex-grow: 1;}#sk-container-id-7 div.sk-label:hover label.sk-toggleable__label {background-color: #d4ebff;}#sk-container-id-7 div.sk-serial::before {content: \"\";position: absolute;border-left: 1px solid gray;box-sizing: border-box;top: 0;bottom: 0;left: 50%;z-index: 0;}#sk-container-id-7 div.sk-serial {display: flex;flex-direction: column;align-items: center;background-color: white;padding-right: 0.2em;padding-left: 0.2em;position: relative;}#sk-container-id-7 div.sk-item {position: relative;z-index: 1;}#sk-container-id-7 div.sk-parallel {display: flex;align-items: stretch;justify-content: center;background-color: white;position: relative;}#sk-container-id-7 div.sk-item::before, #sk-container-id-7 div.sk-parallel-item::before {content: \"\";position: absolute;border-left: 1px solid gray;box-sizing: border-box;top: 0;bottom: 0;left: 50%;z-index: -1;}#sk-container-id-7 div.sk-parallel-item {display: flex;flex-direction: column;z-index: 1;position: relative;background-color: white;}#sk-container-id-7 div.sk-parallel-item:first-child::after {align-self: flex-end;width: 50%;}#sk-container-id-7 div.sk-parallel-item:last-child::after {align-self: flex-start;width: 50%;}#sk-container-id-7 div.sk-parallel-item:only-child::after {width: 0;}#sk-container-id-7 div.sk-dashed-wrapped {border: 1px dashed gray;margin: 0 0.4em 0.5em 0.4em;box-sizing: border-box;padding-bottom: 0.4em;background-color: white;}#sk-container-id-7 div.sk-label label {font-family: monospace;font-weight: bold;display: inline-block;line-height: 1.2em;}#sk-container-id-7 div.sk-label-container {text-align: center;}#sk-container-id-7 div.sk-container {/* jupyter's `normalize.less` sets `[hidden] { display: none; }` but bootstrap.min.css set `[hidden] { display: none !important; }` so we also need the `!important` here to be able to override the default hidden behavior on the sphinx rendered scikit-learn.org. See: https://github.com/scikit-learn/scikit-learn/issues/21755 */display: inline-block !important;position: relative;}#sk-container-id-7 div.sk-text-repr-fallback {display: none;}</style><div id=\"sk-container-id-7\" class=\"sk-top-container\"><div class=\"sk-text-repr-fallback\"><pre>MLPClassifier(alpha=3.6946012051993024e-06, batch_size=512,\n",
       "              hidden_layer_sizes=(24,), random_state=32)</pre><b>In a Jupyter environment, please rerun this cell to show the HTML representation or trust the notebook. <br />On GitHub, the HTML representation is unable to render, please try loading this page with nbviewer.org.</b></div><div class=\"sk-container\" hidden><div class=\"sk-item\"><div class=\"sk-estimator sk-toggleable\"><input class=\"sk-toggleable__control sk-hidden--visually\" id=\"sk-estimator-id-7\" type=\"checkbox\" checked><label for=\"sk-estimator-id-7\" class=\"sk-toggleable__label sk-toggleable__label-arrow\">MLPClassifier</label><div class=\"sk-toggleable__content\"><pre>MLPClassifier(alpha=3.6946012051993024e-06, batch_size=512,\n",
       "              hidden_layer_sizes=(24,), random_state=32)</pre></div></div></div></div></div>"
      ],
      "text/plain": [
       "MLPClassifier(alpha=3.6946012051993024e-06, batch_size=512,\n",
       "              hidden_layer_sizes=(24,), random_state=32)"
      ]
     },
     "execution_count": 57,
     "metadata": {},
     "output_type": "execute_result"
    }
   ],
   "source": [
    "PRC.fit(X=x_train,y=y_train)"
   ]
  },
  {
   "cell_type": "code",
   "execution_count": 58,
   "metadata": {},
   "outputs": [
    {
     "data": {
      "text/html": [
       "<style>#sk-container-id-8 {color: black;background-color: white;}#sk-container-id-8 pre{padding: 0;}#sk-container-id-8 div.sk-toggleable {background-color: white;}#sk-container-id-8 label.sk-toggleable__label {cursor: pointer;display: block;width: 100%;margin-bottom: 0;padding: 0.3em;box-sizing: border-box;text-align: center;}#sk-container-id-8 label.sk-toggleable__label-arrow:before {content: \"▸\";float: left;margin-right: 0.25em;color: #696969;}#sk-container-id-8 label.sk-toggleable__label-arrow:hover:before {color: black;}#sk-container-id-8 div.sk-estimator:hover label.sk-toggleable__label-arrow:before {color: black;}#sk-container-id-8 div.sk-toggleable__content {max-height: 0;max-width: 0;overflow: hidden;text-align: left;background-color: #f0f8ff;}#sk-container-id-8 div.sk-toggleable__content pre {margin: 0.2em;color: black;border-radius: 0.25em;background-color: #f0f8ff;}#sk-container-id-8 input.sk-toggleable__control:checked~div.sk-toggleable__content {max-height: 200px;max-width: 100%;overflow: auto;}#sk-container-id-8 input.sk-toggleable__control:checked~label.sk-toggleable__label-arrow:before {content: \"▾\";}#sk-container-id-8 div.sk-estimator input.sk-toggleable__control:checked~label.sk-toggleable__label {background-color: #d4ebff;}#sk-container-id-8 div.sk-label input.sk-toggleable__control:checked~label.sk-toggleable__label {background-color: #d4ebff;}#sk-container-id-8 input.sk-hidden--visually {border: 0;clip: rect(1px 1px 1px 1px);clip: rect(1px, 1px, 1px, 1px);height: 1px;margin: -1px;overflow: hidden;padding: 0;position: absolute;width: 1px;}#sk-container-id-8 div.sk-estimator {font-family: monospace;background-color: #f0f8ff;border: 1px dotted black;border-radius: 0.25em;box-sizing: border-box;margin-bottom: 0.5em;}#sk-container-id-8 div.sk-estimator:hover {background-color: #d4ebff;}#sk-container-id-8 div.sk-parallel-item::after {content: \"\";width: 100%;border-bottom: 1px solid gray;flex-grow: 1;}#sk-container-id-8 div.sk-label:hover label.sk-toggleable__label {background-color: #d4ebff;}#sk-container-id-8 div.sk-serial::before {content: \"\";position: absolute;border-left: 1px solid gray;box-sizing: border-box;top: 0;bottom: 0;left: 50%;z-index: 0;}#sk-container-id-8 div.sk-serial {display: flex;flex-direction: column;align-items: center;background-color: white;padding-right: 0.2em;padding-left: 0.2em;position: relative;}#sk-container-id-8 div.sk-item {position: relative;z-index: 1;}#sk-container-id-8 div.sk-parallel {display: flex;align-items: stretch;justify-content: center;background-color: white;position: relative;}#sk-container-id-8 div.sk-item::before, #sk-container-id-8 div.sk-parallel-item::before {content: \"\";position: absolute;border-left: 1px solid gray;box-sizing: border-box;top: 0;bottom: 0;left: 50%;z-index: -1;}#sk-container-id-8 div.sk-parallel-item {display: flex;flex-direction: column;z-index: 1;position: relative;background-color: white;}#sk-container-id-8 div.sk-parallel-item:first-child::after {align-self: flex-end;width: 50%;}#sk-container-id-8 div.sk-parallel-item:last-child::after {align-self: flex-start;width: 50%;}#sk-container-id-8 div.sk-parallel-item:only-child::after {width: 0;}#sk-container-id-8 div.sk-dashed-wrapped {border: 1px dashed gray;margin: 0 0.4em 0.5em 0.4em;box-sizing: border-box;padding-bottom: 0.4em;background-color: white;}#sk-container-id-8 div.sk-label label {font-family: monospace;font-weight: bold;display: inline-block;line-height: 1.2em;}#sk-container-id-8 div.sk-label-container {text-align: center;}#sk-container-id-8 div.sk-container {/* jupyter's `normalize.less` sets `[hidden] { display: none; }` but bootstrap.min.css set `[hidden] { display: none !important; }` so we also need the `!important` here to be able to override the default hidden behavior on the sphinx rendered scikit-learn.org. See: https://github.com/scikit-learn/scikit-learn/issues/21755 */display: inline-block !important;position: relative;}#sk-container-id-8 div.sk-text-repr-fallback {display: none;}</style><div id=\"sk-container-id-8\" class=\"sk-top-container\"><div class=\"sk-text-repr-fallback\"><pre>MLPClassifier(alpha=3.6946012051993024e-06, batch_size=512,\n",
       "              hidden_layer_sizes=(24,), random_state=32)</pre><b>In a Jupyter environment, please rerun this cell to show the HTML representation or trust the notebook. <br />On GitHub, the HTML representation is unable to render, please try loading this page with nbviewer.org.</b></div><div class=\"sk-container\" hidden><div class=\"sk-item\"><div class=\"sk-estimator sk-toggleable\"><input class=\"sk-toggleable__control sk-hidden--visually\" id=\"sk-estimator-id-8\" type=\"checkbox\" checked><label for=\"sk-estimator-id-8\" class=\"sk-toggleable__label sk-toggleable__label-arrow\">MLPClassifier</label><div class=\"sk-toggleable__content\"><pre>MLPClassifier(alpha=3.6946012051993024e-06, batch_size=512,\n",
       "              hidden_layer_sizes=(24,), random_state=32)</pre></div></div></div></div></div>"
      ],
      "text/plain": [
       "MLPClassifier(alpha=3.6946012051993024e-06, batch_size=512,\n",
       "              hidden_layer_sizes=(24,), random_state=32)"
      ]
     },
     "execution_count": 58,
     "metadata": {},
     "output_type": "execute_result"
    }
   ],
   "source": [
    "PCR_gold.fit(X=x_train_gold,y=y_train_gold)"
   ]
  },
  {
   "cell_type": "code",
   "execution_count": 12,
   "metadata": {},
   "outputs": [],
   "source": [
    "scoring_functions = ['CONSRANK_val', 'CP_HLPL', 'CP_MJ3h', 'DDG_V', 'CP_RMFCA', 'AP_GOAP_DF']\n"
   ]
  },
  {
   "cell_type": "code",
   "execution_count": 13,
   "metadata": {},
   "outputs": [],
   "source": [
    "# proba_to_be_true_core = pd.DataFrame(PRC.predict_proba(x_val[scoring_functions]))[1]\n",
    "proba_to_be_true_core = pd.DataFrame(PRC.predict_proba(x_val[x_train.columns.to_list()]))[1]\n"
   ]
  },
  {
   "cell_type": "code",
   "execution_count": 14,
   "metadata": {},
   "outputs": [],
   "source": [
    "# df_proba_true_core = pd.DataFrame([PRC.predict(x_val[scoring_functions]),proba_to_be_true_core]).T\n",
    "df_proba_true_core = pd.DataFrame([PRC.predict(x_val[x_train.columns.to_list()]),proba_to_be_true_core]).T"
   ]
  },
  {
   "cell_type": "code",
   "execution_count": 15,
   "metadata": {},
   "outputs": [],
   "source": [
    "x_val_gold = pd.concat( [x_val[scoring_functions],x_ml_classifer[[\"NNC\",\"TF2\"]]],axis=1)\n",
    "x_test_gold = pd.concat( [x_test[scoring_functions],x_ml_classifer_test[[\"NNC\",\"TF2\"]]],axis=1)\n",
    "#x_ml_classifer.head()"
   ]
  },
  {
   "cell_type": "code",
   "execution_count": 16,
   "metadata": {},
   "outputs": [
    {
     "ename": "ValueError",
     "evalue": "The feature names should match those that were passed during fit.\nFeature names unseen at fit time:\n- NNC\nFeature names seen at fit time, yet now missing:\n- RFC\n",
     "output_type": "error",
     "traceback": [
      "\u001b[0;31m---------------------------------------------------------------------------\u001b[0m",
      "\u001b[0;31mValueError\u001b[0m                                Traceback (most recent call last)",
      "Cell \u001b[0;32mIn[16], line 1\u001b[0m\n\u001b[0;32m----> 1\u001b[0m proba_to_be_true_haikal \u001b[39m=\u001b[39m pd\u001b[39m.\u001b[39mDataFrame(PCR_gold\u001b[39m.\u001b[39;49mpredict_proba(x_val_gold))[\u001b[39m1\u001b[39m]\n",
      "File \u001b[0;32m~/miniconda3/envs/ml-module/lib/python3.9/site-packages/sklearn/neural_network/_multilayer_perceptron.py:1226\u001b[0m, in \u001b[0;36mMLPClassifier.predict_proba\u001b[0;34m(self, X)\u001b[0m\n\u001b[1;32m   1212\u001b[0m \u001b[39m\u001b[39m\u001b[39m\"\"\"Probability estimates.\u001b[39;00m\n\u001b[1;32m   1213\u001b[0m \n\u001b[1;32m   1214\u001b[0m \u001b[39mParameters\u001b[39;00m\n\u001b[0;32m   (...)\u001b[0m\n\u001b[1;32m   1223\u001b[0m \u001b[39m    model, where classes are ordered as they are in `self.classes_`.\u001b[39;00m\n\u001b[1;32m   1224\u001b[0m \u001b[39m\"\"\"\u001b[39;00m\n\u001b[1;32m   1225\u001b[0m check_is_fitted(\u001b[39mself\u001b[39m)\n\u001b[0;32m-> 1226\u001b[0m y_pred \u001b[39m=\u001b[39m \u001b[39mself\u001b[39;49m\u001b[39m.\u001b[39;49m_forward_pass_fast(X)\n\u001b[1;32m   1228\u001b[0m \u001b[39mif\u001b[39;00m \u001b[39mself\u001b[39m\u001b[39m.\u001b[39mn_outputs_ \u001b[39m==\u001b[39m \u001b[39m1\u001b[39m:\n\u001b[1;32m   1229\u001b[0m     y_pred \u001b[39m=\u001b[39m y_pred\u001b[39m.\u001b[39mravel()\n",
      "File \u001b[0;32m~/miniconda3/envs/ml-module/lib/python3.9/site-packages/sklearn/neural_network/_multilayer_perceptron.py:197\u001b[0m, in \u001b[0;36mBaseMultilayerPerceptron._forward_pass_fast\u001b[0;34m(self, X)\u001b[0m\n\u001b[1;32m    181\u001b[0m \u001b[39mdef\u001b[39;00m \u001b[39m_forward_pass_fast\u001b[39m(\u001b[39mself\u001b[39m, X):\n\u001b[1;32m    182\u001b[0m \u001b[39m    \u001b[39m\u001b[39m\"\"\"Predict using the trained model\u001b[39;00m\n\u001b[1;32m    183\u001b[0m \n\u001b[1;32m    184\u001b[0m \u001b[39m    This is the same as _forward_pass but does not record the activations\u001b[39;00m\n\u001b[0;32m   (...)\u001b[0m\n\u001b[1;32m    195\u001b[0m \u001b[39m        The decision function of the samples for each class in the model.\u001b[39;00m\n\u001b[1;32m    196\u001b[0m \u001b[39m    \"\"\"\u001b[39;00m\n\u001b[0;32m--> 197\u001b[0m     X \u001b[39m=\u001b[39m \u001b[39mself\u001b[39;49m\u001b[39m.\u001b[39;49m_validate_data(X, accept_sparse\u001b[39m=\u001b[39;49m[\u001b[39m\"\u001b[39;49m\u001b[39mcsr\u001b[39;49m\u001b[39m\"\u001b[39;49m, \u001b[39m\"\u001b[39;49m\u001b[39mcsc\u001b[39;49m\u001b[39m\"\u001b[39;49m], reset\u001b[39m=\u001b[39;49m\u001b[39mFalse\u001b[39;49;00m)\n\u001b[1;32m    199\u001b[0m     \u001b[39m# Initialize first layer\u001b[39;00m\n\u001b[1;32m    200\u001b[0m     activation \u001b[39m=\u001b[39m X\n",
      "File \u001b[0;32m~/miniconda3/envs/ml-module/lib/python3.9/site-packages/sklearn/base.py:518\u001b[0m, in \u001b[0;36mBaseEstimator._validate_data\u001b[0;34m(self, X, y, reset, validate_separately, **check_params)\u001b[0m\n\u001b[1;32m    453\u001b[0m \u001b[39mdef\u001b[39;00m \u001b[39m_validate_data\u001b[39m(\n\u001b[1;32m    454\u001b[0m     \u001b[39mself\u001b[39m,\n\u001b[1;32m    455\u001b[0m     X\u001b[39m=\u001b[39m\u001b[39m\"\u001b[39m\u001b[39mno_validation\u001b[39m\u001b[39m\"\u001b[39m,\n\u001b[0;32m   (...)\u001b[0m\n\u001b[1;32m    459\u001b[0m     \u001b[39m*\u001b[39m\u001b[39m*\u001b[39mcheck_params,\n\u001b[1;32m    460\u001b[0m ):\n\u001b[1;32m    461\u001b[0m \u001b[39m    \u001b[39m\u001b[39m\"\"\"Validate input data and set or check the `n_features_in_` attribute.\u001b[39;00m\n\u001b[1;32m    462\u001b[0m \n\u001b[1;32m    463\u001b[0m \u001b[39m    Parameters\u001b[39;00m\n\u001b[0;32m   (...)\u001b[0m\n\u001b[1;32m    516\u001b[0m \u001b[39m        validated.\u001b[39;00m\n\u001b[1;32m    517\u001b[0m \u001b[39m    \"\"\"\u001b[39;00m\n\u001b[0;32m--> 518\u001b[0m     \u001b[39mself\u001b[39;49m\u001b[39m.\u001b[39;49m_check_feature_names(X, reset\u001b[39m=\u001b[39;49mreset)\n\u001b[1;32m    520\u001b[0m     \u001b[39mif\u001b[39;00m y \u001b[39mis\u001b[39;00m \u001b[39mNone\u001b[39;00m \u001b[39mand\u001b[39;00m \u001b[39mself\u001b[39m\u001b[39m.\u001b[39m_get_tags()[\u001b[39m\"\u001b[39m\u001b[39mrequires_y\u001b[39m\u001b[39m\"\u001b[39m]:\n\u001b[1;32m    521\u001b[0m         \u001b[39mraise\u001b[39;00m \u001b[39mValueError\u001b[39;00m(\n\u001b[1;32m    522\u001b[0m             \u001b[39mf\u001b[39m\u001b[39m\"\u001b[39m\u001b[39mThis \u001b[39m\u001b[39m{\u001b[39;00m\u001b[39mself\u001b[39m\u001b[39m.\u001b[39m\u001b[39m__class__\u001b[39m\u001b[39m.\u001b[39m\u001b[39m__name__\u001b[39m\u001b[39m}\u001b[39;00m\u001b[39m estimator \u001b[39m\u001b[39m\"\u001b[39m\n\u001b[1;32m    523\u001b[0m             \u001b[39m\"\u001b[39m\u001b[39mrequires y to be passed, but the target y is None.\u001b[39m\u001b[39m\"\u001b[39m\n\u001b[1;32m    524\u001b[0m         )\n",
      "File \u001b[0;32m~/miniconda3/envs/ml-module/lib/python3.9/site-packages/sklearn/base.py:451\u001b[0m, in \u001b[0;36mBaseEstimator._check_feature_names\u001b[0;34m(self, X, reset)\u001b[0m\n\u001b[1;32m    446\u001b[0m \u001b[39mif\u001b[39;00m \u001b[39mnot\u001b[39;00m missing_names \u001b[39mand\u001b[39;00m \u001b[39mnot\u001b[39;00m unexpected_names:\n\u001b[1;32m    447\u001b[0m     message \u001b[39m+\u001b[39m\u001b[39m=\u001b[39m (\n\u001b[1;32m    448\u001b[0m         \u001b[39m\"\u001b[39m\u001b[39mFeature names must be in the same order as they were in fit.\u001b[39m\u001b[39m\\n\u001b[39;00m\u001b[39m\"\u001b[39m\n\u001b[1;32m    449\u001b[0m     )\n\u001b[0;32m--> 451\u001b[0m \u001b[39mraise\u001b[39;00m \u001b[39mValueError\u001b[39;00m(message)\n",
      "\u001b[0;31mValueError\u001b[0m: The feature names should match those that were passed during fit.\nFeature names unseen at fit time:\n- NNC\nFeature names seen at fit time, yet now missing:\n- RFC\n"
     ]
    }
   ],
   "source": [
    "proba_to_be_true_haikal = pd.DataFrame(PCR_gold.predict_proba(x_val_gold))[1]\n"
   ]
  },
  {
   "cell_type": "code",
   "execution_count": null,
   "metadata": {},
   "outputs": [],
   "source": [
    "df_proba_true_haikal = pd.DataFrame([PCR_gold.predict(x_val_gold),proba_to_be_true_haikal]).T"
   ]
  },
  {
   "cell_type": "code",
   "execution_count": 28,
   "metadata": {},
   "outputs": [],
   "source": [
    "def convert_pred_a(model , my_x, my_y, tag ):\n",
    "    \"\"\" this funtions will get the columns neseray to create a dataframe to analize the success rate \"\"\"\n",
    "    df_pred = pd.DataFrame( model.predict_proba(my_x.to_numpy()) )\n",
    "    df_pred = df_pred.set_index( my_x.index ) \n",
    "    label_binary = my_y\n",
    "    idx = []\n",
    "\n",
    "    if tag == \"test\":\n",
    "        idx = [ x.split(\"_\")[0] for x in my_x.index ]\n",
    "        idx = pd.Series(idx, index=my_x.index)\n",
    "\n",
    "    elif tag == \"val\":\n",
    "        idx = [ x.split(\"_\")[1] for x in my_x.index ]\n",
    "        idx = pd.Series(idx, index=my_x.index)\n",
    "\n",
    "    df_pred = pd.concat( [idx ,label_binary, df_pred[1] ], axis=1)\n",
    "    df_pred.columns = [\"idx\",\"label_binary\",\"proba_true\"]\n",
    "    \n",
    "    return df_pred"
   ]
  },
  {
   "cell_type": "code",
   "execution_count": null,
   "metadata": {},
   "outputs": [
    {
     "name": "stderr",
     "output_type": "stream",
     "text": [
      "/sw/csgv/machine_learning/2022.11/el7_cudnn8.2_cuda11.2_py3.8_env/machine_learning-module/env/lib/python3.9/site-packages/sklearn/base.py:450: UserWarning: X does not have valid feature names, but MLPClassifier was fitted with feature names\n",
      "  warnings.warn(\n"
     ]
    }
   ],
   "source": [
    "df_core_perceptron_val = convert_pred_a(model=PRC,my_x=x_val[[x_train.columns.to_list()]],my_y=y_val,tag=\"val\")"
   ]
  },
  {
   "cell_type": "code",
   "execution_count": null,
   "metadata": {},
   "outputs": [
    {
     "data": {
      "text/html": [
       "<div>\n",
       "<style scoped>\n",
       "    .dataframe tbody tr th:only-of-type {\n",
       "        vertical-align: middle;\n",
       "    }\n",
       "\n",
       "    .dataframe tbody tr th {\n",
       "        vertical-align: top;\n",
       "    }\n",
       "\n",
       "    .dataframe thead th {\n",
       "        text-align: right;\n",
       "    }\n",
       "</style>\n",
       "<table border=\"1\" class=\"dataframe\">\n",
       "  <thead>\n",
       "    <tr style=\"text-align: right;\">\n",
       "      <th></th>\n",
       "      <th>idx</th>\n",
       "      <th>label_binary</th>\n",
       "      <th>proba_true</th>\n",
       "    </tr>\n",
       "    <tr>\n",
       "      <th>Conf</th>\n",
       "      <th></th>\n",
       "      <th></th>\n",
       "      <th></th>\n",
       "    </tr>\n",
       "  </thead>\n",
       "  <tbody>\n",
       "    <tr>\n",
       "      <th>F_1EXB_1006_I.pdb</th>\n",
       "      <td>1EXB</td>\n",
       "      <td>False</td>\n",
       "      <td>0.020228</td>\n",
       "    </tr>\n",
       "    <tr>\n",
       "      <th>F_1EXB_1027_I.pdb</th>\n",
       "      <td>1EXB</td>\n",
       "      <td>False</td>\n",
       "      <td>0.034935</td>\n",
       "    </tr>\n",
       "    <tr>\n",
       "      <th>F_1EXB_1030_I.pdb</th>\n",
       "      <td>1EXB</td>\n",
       "      <td>False</td>\n",
       "      <td>0.016832</td>\n",
       "    </tr>\n",
       "    <tr>\n",
       "      <th>F_1EXB_1042_I.pdb</th>\n",
       "      <td>1EXB</td>\n",
       "      <td>False</td>\n",
       "      <td>0.038345</td>\n",
       "    </tr>\n",
       "    <tr>\n",
       "      <th>F_1EXB_1051_I.pdb</th>\n",
       "      <td>1EXB</td>\n",
       "      <td>False</td>\n",
       "      <td>0.021989</td>\n",
       "    </tr>\n",
       "    <tr>\n",
       "      <th>...</th>\n",
       "      <td>...</td>\n",
       "      <td>...</td>\n",
       "      <td>...</td>\n",
       "    </tr>\n",
       "    <tr>\n",
       "      <th>Z_2W9E_9945_I.pdb</th>\n",
       "      <td>2W9E</td>\n",
       "      <td>False</td>\n",
       "      <td>0.899762</td>\n",
       "    </tr>\n",
       "    <tr>\n",
       "      <th>Z_2W9E_9951_I.pdb</th>\n",
       "      <td>2W9E</td>\n",
       "      <td>False</td>\n",
       "      <td>0.780666</td>\n",
       "    </tr>\n",
       "    <tr>\n",
       "      <th>Z_2W9E_9958_I.pdb</th>\n",
       "      <td>2W9E</td>\n",
       "      <td>False</td>\n",
       "      <td>0.303802</td>\n",
       "    </tr>\n",
       "    <tr>\n",
       "      <th>Z_2W9E_9967_I.pdb</th>\n",
       "      <td>2W9E</td>\n",
       "      <td>False</td>\n",
       "      <td>0.061061</td>\n",
       "    </tr>\n",
       "    <tr>\n",
       "      <th>Z_2W9E_9995_A.pdb</th>\n",
       "      <td>2W9E</td>\n",
       "      <td>True</td>\n",
       "      <td>0.999944</td>\n",
       "    </tr>\n",
       "  </tbody>\n",
       "</table>\n",
       "<p>157767 rows × 3 columns</p>\n",
       "</div>"
      ],
      "text/plain": [
       "                    idx  label_binary  proba_true\n",
       "Conf                                             \n",
       "F_1EXB_1006_I.pdb  1EXB         False    0.020228\n",
       "F_1EXB_1027_I.pdb  1EXB         False    0.034935\n",
       "F_1EXB_1030_I.pdb  1EXB         False    0.016832\n",
       "F_1EXB_1042_I.pdb  1EXB         False    0.038345\n",
       "F_1EXB_1051_I.pdb  1EXB         False    0.021989\n",
       "...                 ...           ...         ...\n",
       "Z_2W9E_9945_I.pdb  2W9E         False    0.899762\n",
       "Z_2W9E_9951_I.pdb  2W9E         False    0.780666\n",
       "Z_2W9E_9958_I.pdb  2W9E         False    0.303802\n",
       "Z_2W9E_9967_I.pdb  2W9E         False    0.061061\n",
       "Z_2W9E_9995_A.pdb  2W9E          True    0.999944\n",
       "\n",
       "[157767 rows x 3 columns]"
      ]
     },
     "execution_count": 19,
     "metadata": {},
     "output_type": "execute_result"
    }
   ],
   "source": [
    "df_core_perceptron_val"
   ]
  },
  {
   "cell_type": "code",
   "execution_count": null,
   "metadata": {},
   "outputs": [
    {
     "name": "stderr",
     "output_type": "stream",
     "text": [
      "/sw/csgv/machine_learning/2022.11/el7_cudnn8.2_cuda11.2_py3.8_env/machine_learning-module/env/lib/python3.9/site-packages/sklearn/base.py:450: UserWarning: X does not have valid feature names, but MLPClassifier was fitted with feature names\n",
      "  warnings.warn(\n"
     ]
    }
   ],
   "source": [
    "df_core_perceptron_test = convert_pred_a(model=PRC,my_x=x_test[[x_train.columns.to_list()]],my_y=y_test,tag=\"test\")\n"
   ]
  },
  {
   "cell_type": "code",
   "execution_count": null,
   "metadata": {},
   "outputs": [
    {
     "name": "stderr",
     "output_type": "stream",
     "text": [
      "/sw/csgv/machine_learning/2022.11/el7_cudnn8.2_cuda11.2_py3.8_env/machine_learning-module/env/lib/python3.9/site-packages/sklearn/base.py:450: UserWarning: X does not have valid feature names, but MLPClassifier was fitted with feature names\n",
      "  warnings.warn(\n",
      "/sw/csgv/machine_learning/2022.11/el7_cudnn8.2_cuda11.2_py3.8_env/machine_learning-module/env/lib/python3.9/site-packages/sklearn/base.py:450: UserWarning: X does not have valid feature names, but MLPClassifier was fitted with feature names\n",
      "  warnings.warn(\n"
     ]
    }
   ],
   "source": [
    "df_snorkel_perceptron_val = convert_pred_a(model=PCR_gold,my_x=x_val_gold,my_y=y_val,tag=\"val\")\n",
    "df_snorkel_perceptron_test = convert_pred_a(model=PCR_gold,my_x=x_test_gold,my_y=y_test,tag=\"test\")\n"
   ]
  },
  {
   "cell_type": "code",
   "execution_count": null,
   "metadata": {},
   "outputs": [
    {
     "name": "stdout",
     "output_type": "stream",
     "text": [
      "NN [24, 28, 31, 42] val\n",
      "43.64 50.91 56.36 76.36 \n"
     ]
    },
    {
     "data": {
      "text/html": [
       "<div>\n",
       "<style scoped>\n",
       "    .dataframe tbody tr th:only-of-type {\n",
       "        vertical-align: middle;\n",
       "    }\n",
       "\n",
       "    .dataframe tbody tr th {\n",
       "        vertical-align: top;\n",
       "    }\n",
       "\n",
       "    .dataframe thead th {\n",
       "        text-align: right;\n",
       "    }\n",
       "</style>\n",
       "<table border=\"1\" class=\"dataframe\">\n",
       "  <thead>\n",
       "    <tr style=\"text-align: right;\">\n",
       "      <th></th>\n",
       "      <th>NN</th>\n",
       "    </tr>\n",
       "  </thead>\n",
       "  <tbody>\n",
       "    <tr>\n",
       "      <th>1</th>\n",
       "      <td>43.64</td>\n",
       "    </tr>\n",
       "    <tr>\n",
       "      <th>10</th>\n",
       "      <td>50.91</td>\n",
       "    </tr>\n",
       "    <tr>\n",
       "      <th>100</th>\n",
       "      <td>56.36</td>\n",
       "    </tr>\n",
       "    <tr>\n",
       "      <th>1000</th>\n",
       "      <td>76.36</td>\n",
       "    </tr>\n",
       "  </tbody>\n",
       "</table>\n",
       "</div>"
      ],
      "text/plain": [
       "         NN\n",
       "1     43.64\n",
       "10    50.91\n",
       "100   56.36\n",
       "1000  76.36"
      ]
     },
     "execution_count": 22,
     "metadata": {},
     "output_type": "execute_result"
    }
   ],
   "source": [
    "get_success_rate(df_core_perceptron_val,\"val\",\"NN\")"
   ]
  },
  {
   "cell_type": "code",
   "execution_count": null,
   "metadata": {},
   "outputs": [
    {
     "name": "stdout",
     "output_type": "stream",
     "text": [
      "NN [6, 7, 8, 13] test\n",
      "40.0 46.67 53.33 86.67 \n"
     ]
    },
    {
     "data": {
      "text/html": [
       "<div>\n",
       "<style scoped>\n",
       "    .dataframe tbody tr th:only-of-type {\n",
       "        vertical-align: middle;\n",
       "    }\n",
       "\n",
       "    .dataframe tbody tr th {\n",
       "        vertical-align: top;\n",
       "    }\n",
       "\n",
       "    .dataframe thead th {\n",
       "        text-align: right;\n",
       "    }\n",
       "</style>\n",
       "<table border=\"1\" class=\"dataframe\">\n",
       "  <thead>\n",
       "    <tr style=\"text-align: right;\">\n",
       "      <th></th>\n",
       "      <th>NN</th>\n",
       "    </tr>\n",
       "  </thead>\n",
       "  <tbody>\n",
       "    <tr>\n",
       "      <th>1</th>\n",
       "      <td>40.00</td>\n",
       "    </tr>\n",
       "    <tr>\n",
       "      <th>10</th>\n",
       "      <td>46.67</td>\n",
       "    </tr>\n",
       "    <tr>\n",
       "      <th>100</th>\n",
       "      <td>53.33</td>\n",
       "    </tr>\n",
       "    <tr>\n",
       "      <th>1000</th>\n",
       "      <td>86.67</td>\n",
       "    </tr>\n",
       "  </tbody>\n",
       "</table>\n",
       "</div>"
      ],
      "text/plain": [
       "         NN\n",
       "1     40.00\n",
       "10    46.67\n",
       "100   53.33\n",
       "1000  86.67"
      ]
     },
     "execution_count": 23,
     "metadata": {},
     "output_type": "execute_result"
    }
   ],
   "source": [
    "get_success_rate(df_core_perceptron_test,\"test\",\"NN\")"
   ]
  },
  {
   "cell_type": "code",
   "execution_count": null,
   "metadata": {},
   "outputs": [
    {
     "name": "stdout",
     "output_type": "stream",
     "text": [
      "NN-hAIkal [24, 30, 37, 48] val\n",
      "43.64 54.55 67.27 87.27000000000001 \n"
     ]
    },
    {
     "data": {
      "text/html": [
       "<div>\n",
       "<style scoped>\n",
       "    .dataframe tbody tr th:only-of-type {\n",
       "        vertical-align: middle;\n",
       "    }\n",
       "\n",
       "    .dataframe tbody tr th {\n",
       "        vertical-align: top;\n",
       "    }\n",
       "\n",
       "    .dataframe thead th {\n",
       "        text-align: right;\n",
       "    }\n",
       "</style>\n",
       "<table border=\"1\" class=\"dataframe\">\n",
       "  <thead>\n",
       "    <tr style=\"text-align: right;\">\n",
       "      <th></th>\n",
       "      <th>NN-hAIkal</th>\n",
       "    </tr>\n",
       "  </thead>\n",
       "  <tbody>\n",
       "    <tr>\n",
       "      <th>1</th>\n",
       "      <td>43.64</td>\n",
       "    </tr>\n",
       "    <tr>\n",
       "      <th>10</th>\n",
       "      <td>54.55</td>\n",
       "    </tr>\n",
       "    <tr>\n",
       "      <th>100</th>\n",
       "      <td>67.27</td>\n",
       "    </tr>\n",
       "    <tr>\n",
       "      <th>1000</th>\n",
       "      <td>87.27</td>\n",
       "    </tr>\n",
       "  </tbody>\n",
       "</table>\n",
       "</div>"
      ],
      "text/plain": [
       "      NN-hAIkal\n",
       "1         43.64\n",
       "10        54.55\n",
       "100       67.27\n",
       "1000      87.27"
      ]
     },
     "execution_count": 24,
     "metadata": {},
     "output_type": "execute_result"
    }
   ],
   "source": [
    "get_success_rate(df_snorkel_perceptron_val,\"val\",\"NN-hAIkal\")"
   ]
  },
  {
   "cell_type": "code",
   "execution_count": null,
   "metadata": {},
   "outputs": [
    {
     "name": "stdout",
     "output_type": "stream",
     "text": [
      "NN-hAIkal [5, 7, 8, 13] test\n",
      "33.33 46.67 53.33 86.67 \n"
     ]
    },
    {
     "data": {
      "text/html": [
       "<div>\n",
       "<style scoped>\n",
       "    .dataframe tbody tr th:only-of-type {\n",
       "        vertical-align: middle;\n",
       "    }\n",
       "\n",
       "    .dataframe tbody tr th {\n",
       "        vertical-align: top;\n",
       "    }\n",
       "\n",
       "    .dataframe thead th {\n",
       "        text-align: right;\n",
       "    }\n",
       "</style>\n",
       "<table border=\"1\" class=\"dataframe\">\n",
       "  <thead>\n",
       "    <tr style=\"text-align: right;\">\n",
       "      <th></th>\n",
       "      <th>NN-hAIkal</th>\n",
       "    </tr>\n",
       "  </thead>\n",
       "  <tbody>\n",
       "    <tr>\n",
       "      <th>1</th>\n",
       "      <td>33.33</td>\n",
       "    </tr>\n",
       "    <tr>\n",
       "      <th>10</th>\n",
       "      <td>46.67</td>\n",
       "    </tr>\n",
       "    <tr>\n",
       "      <th>100</th>\n",
       "      <td>53.33</td>\n",
       "    </tr>\n",
       "    <tr>\n",
       "      <th>1000</th>\n",
       "      <td>86.67</td>\n",
       "    </tr>\n",
       "  </tbody>\n",
       "</table>\n",
       "</div>"
      ],
      "text/plain": [
       "      NN-hAIkal\n",
       "1         33.33\n",
       "10        46.67\n",
       "100       53.33\n",
       "1000      86.67"
      ]
     },
     "execution_count": 25,
     "metadata": {},
     "output_type": "execute_result"
    }
   ],
   "source": [
    "get_success_rate(df_snorkel_perceptron_test,\"test\",\"NN-hAIkal\")"
   ]
  },
  {
   "cell_type": "code",
   "execution_count": 17,
   "metadata": {},
   "outputs": [],
   "source": [
    "from sklearn.ensemble import RandomForestClassifier"
   ]
  },
  {
   "cell_type": "code",
   "execution_count": 18,
   "metadata": {},
   "outputs": [],
   "source": [
    "RFC_model_core = RandomForestClassifier(n_jobs=-1,n_estimators=100,random_state=32,min_samples_split= 10 , class_weight={0:1.2,1:0.1}) \n",
    "RFC_model_haikal = RandomForestClassifier(n_jobs=-1,n_estimators=100,random_state=32,min_samples_split= 10 , class_weight={0:1.2,1:0.1}) "
   ]
  },
  {
   "cell_type": "code",
   "execution_count": 29,
   "metadata": {},
   "outputs": [],
   "source": [
    "x_train_gold, y_train_gold = read_data_gold_data_RF()"
   ]
  },
  {
   "cell_type": "code",
   "execution_count": 30,
   "metadata": {},
   "outputs": [
    {
     "data": {
      "text/html": [
       "<style>#sk-container-id-5 {color: black;background-color: white;}#sk-container-id-5 pre{padding: 0;}#sk-container-id-5 div.sk-toggleable {background-color: white;}#sk-container-id-5 label.sk-toggleable__label {cursor: pointer;display: block;width: 100%;margin-bottom: 0;padding: 0.3em;box-sizing: border-box;text-align: center;}#sk-container-id-5 label.sk-toggleable__label-arrow:before {content: \"▸\";float: left;margin-right: 0.25em;color: #696969;}#sk-container-id-5 label.sk-toggleable__label-arrow:hover:before {color: black;}#sk-container-id-5 div.sk-estimator:hover label.sk-toggleable__label-arrow:before {color: black;}#sk-container-id-5 div.sk-toggleable__content {max-height: 0;max-width: 0;overflow: hidden;text-align: left;background-color: #f0f8ff;}#sk-container-id-5 div.sk-toggleable__content pre {margin: 0.2em;color: black;border-radius: 0.25em;background-color: #f0f8ff;}#sk-container-id-5 input.sk-toggleable__control:checked~div.sk-toggleable__content {max-height: 200px;max-width: 100%;overflow: auto;}#sk-container-id-5 input.sk-toggleable__control:checked~label.sk-toggleable__label-arrow:before {content: \"▾\";}#sk-container-id-5 div.sk-estimator input.sk-toggleable__control:checked~label.sk-toggleable__label {background-color: #d4ebff;}#sk-container-id-5 div.sk-label input.sk-toggleable__control:checked~label.sk-toggleable__label {background-color: #d4ebff;}#sk-container-id-5 input.sk-hidden--visually {border: 0;clip: rect(1px 1px 1px 1px);clip: rect(1px, 1px, 1px, 1px);height: 1px;margin: -1px;overflow: hidden;padding: 0;position: absolute;width: 1px;}#sk-container-id-5 div.sk-estimator {font-family: monospace;background-color: #f0f8ff;border: 1px dotted black;border-radius: 0.25em;box-sizing: border-box;margin-bottom: 0.5em;}#sk-container-id-5 div.sk-estimator:hover {background-color: #d4ebff;}#sk-container-id-5 div.sk-parallel-item::after {content: \"\";width: 100%;border-bottom: 1px solid gray;flex-grow: 1;}#sk-container-id-5 div.sk-label:hover label.sk-toggleable__label {background-color: #d4ebff;}#sk-container-id-5 div.sk-serial::before {content: \"\";position: absolute;border-left: 1px solid gray;box-sizing: border-box;top: 0;bottom: 0;left: 50%;z-index: 0;}#sk-container-id-5 div.sk-serial {display: flex;flex-direction: column;align-items: center;background-color: white;padding-right: 0.2em;padding-left: 0.2em;position: relative;}#sk-container-id-5 div.sk-item {position: relative;z-index: 1;}#sk-container-id-5 div.sk-parallel {display: flex;align-items: stretch;justify-content: center;background-color: white;position: relative;}#sk-container-id-5 div.sk-item::before, #sk-container-id-5 div.sk-parallel-item::before {content: \"\";position: absolute;border-left: 1px solid gray;box-sizing: border-box;top: 0;bottom: 0;left: 50%;z-index: -1;}#sk-container-id-5 div.sk-parallel-item {display: flex;flex-direction: column;z-index: 1;position: relative;background-color: white;}#sk-container-id-5 div.sk-parallel-item:first-child::after {align-self: flex-end;width: 50%;}#sk-container-id-5 div.sk-parallel-item:last-child::after {align-self: flex-start;width: 50%;}#sk-container-id-5 div.sk-parallel-item:only-child::after {width: 0;}#sk-container-id-5 div.sk-dashed-wrapped {border: 1px dashed gray;margin: 0 0.4em 0.5em 0.4em;box-sizing: border-box;padding-bottom: 0.4em;background-color: white;}#sk-container-id-5 div.sk-label label {font-family: monospace;font-weight: bold;display: inline-block;line-height: 1.2em;}#sk-container-id-5 div.sk-label-container {text-align: center;}#sk-container-id-5 div.sk-container {/* jupyter's `normalize.less` sets `[hidden] { display: none; }` but bootstrap.min.css set `[hidden] { display: none !important; }` so we also need the `!important` here to be able to override the default hidden behavior on the sphinx rendered scikit-learn.org. See: https://github.com/scikit-learn/scikit-learn/issues/21755 */display: inline-block !important;position: relative;}#sk-container-id-5 div.sk-text-repr-fallback {display: none;}</style><div id=\"sk-container-id-5\" class=\"sk-top-container\"><div class=\"sk-text-repr-fallback\"><pre>RandomForestClassifier(class_weight={0: 1.2, 1: 0.1}, min_samples_split=10,\n",
       "                       n_jobs=-1, random_state=32)</pre><b>In a Jupyter environment, please rerun this cell to show the HTML representation or trust the notebook. <br />On GitHub, the HTML representation is unable to render, please try loading this page with nbviewer.org.</b></div><div class=\"sk-container\" hidden><div class=\"sk-item\"><div class=\"sk-estimator sk-toggleable\"><input class=\"sk-toggleable__control sk-hidden--visually\" id=\"sk-estimator-id-5\" type=\"checkbox\" checked><label for=\"sk-estimator-id-5\" class=\"sk-toggleable__label sk-toggleable__label-arrow\">RandomForestClassifier</label><div class=\"sk-toggleable__content\"><pre>RandomForestClassifier(class_weight={0: 1.2, 1: 0.1}, min_samples_split=10,\n",
       "                       n_jobs=-1, random_state=32)</pre></div></div></div></div></div>"
      ],
      "text/plain": [
       "RandomForestClassifier(class_weight={0: 1.2, 1: 0.1}, min_samples_split=10,\n",
       "                       n_jobs=-1, random_state=32)"
      ]
     },
     "execution_count": 30,
     "metadata": {},
     "output_type": "execute_result"
    }
   ],
   "source": [
    "RFC_model_core.fit(x_train,y_train)"
   ]
  },
  {
   "cell_type": "code",
   "execution_count": 31,
   "metadata": {},
   "outputs": [
    {
     "data": {
      "text/html": [
       "<style>#sk-container-id-6 {color: black;background-color: white;}#sk-container-id-6 pre{padding: 0;}#sk-container-id-6 div.sk-toggleable {background-color: white;}#sk-container-id-6 label.sk-toggleable__label {cursor: pointer;display: block;width: 100%;margin-bottom: 0;padding: 0.3em;box-sizing: border-box;text-align: center;}#sk-container-id-6 label.sk-toggleable__label-arrow:before {content: \"▸\";float: left;margin-right: 0.25em;color: #696969;}#sk-container-id-6 label.sk-toggleable__label-arrow:hover:before {color: black;}#sk-container-id-6 div.sk-estimator:hover label.sk-toggleable__label-arrow:before {color: black;}#sk-container-id-6 div.sk-toggleable__content {max-height: 0;max-width: 0;overflow: hidden;text-align: left;background-color: #f0f8ff;}#sk-container-id-6 div.sk-toggleable__content pre {margin: 0.2em;color: black;border-radius: 0.25em;background-color: #f0f8ff;}#sk-container-id-6 input.sk-toggleable__control:checked~div.sk-toggleable__content {max-height: 200px;max-width: 100%;overflow: auto;}#sk-container-id-6 input.sk-toggleable__control:checked~label.sk-toggleable__label-arrow:before {content: \"▾\";}#sk-container-id-6 div.sk-estimator input.sk-toggleable__control:checked~label.sk-toggleable__label {background-color: #d4ebff;}#sk-container-id-6 div.sk-label input.sk-toggleable__control:checked~label.sk-toggleable__label {background-color: #d4ebff;}#sk-container-id-6 input.sk-hidden--visually {border: 0;clip: rect(1px 1px 1px 1px);clip: rect(1px, 1px, 1px, 1px);height: 1px;margin: -1px;overflow: hidden;padding: 0;position: absolute;width: 1px;}#sk-container-id-6 div.sk-estimator {font-family: monospace;background-color: #f0f8ff;border: 1px dotted black;border-radius: 0.25em;box-sizing: border-box;margin-bottom: 0.5em;}#sk-container-id-6 div.sk-estimator:hover {background-color: #d4ebff;}#sk-container-id-6 div.sk-parallel-item::after {content: \"\";width: 100%;border-bottom: 1px solid gray;flex-grow: 1;}#sk-container-id-6 div.sk-label:hover label.sk-toggleable__label {background-color: #d4ebff;}#sk-container-id-6 div.sk-serial::before {content: \"\";position: absolute;border-left: 1px solid gray;box-sizing: border-box;top: 0;bottom: 0;left: 50%;z-index: 0;}#sk-container-id-6 div.sk-serial {display: flex;flex-direction: column;align-items: center;background-color: white;padding-right: 0.2em;padding-left: 0.2em;position: relative;}#sk-container-id-6 div.sk-item {position: relative;z-index: 1;}#sk-container-id-6 div.sk-parallel {display: flex;align-items: stretch;justify-content: center;background-color: white;position: relative;}#sk-container-id-6 div.sk-item::before, #sk-container-id-6 div.sk-parallel-item::before {content: \"\";position: absolute;border-left: 1px solid gray;box-sizing: border-box;top: 0;bottom: 0;left: 50%;z-index: -1;}#sk-container-id-6 div.sk-parallel-item {display: flex;flex-direction: column;z-index: 1;position: relative;background-color: white;}#sk-container-id-6 div.sk-parallel-item:first-child::after {align-self: flex-end;width: 50%;}#sk-container-id-6 div.sk-parallel-item:last-child::after {align-self: flex-start;width: 50%;}#sk-container-id-6 div.sk-parallel-item:only-child::after {width: 0;}#sk-container-id-6 div.sk-dashed-wrapped {border: 1px dashed gray;margin: 0 0.4em 0.5em 0.4em;box-sizing: border-box;padding-bottom: 0.4em;background-color: white;}#sk-container-id-6 div.sk-label label {font-family: monospace;font-weight: bold;display: inline-block;line-height: 1.2em;}#sk-container-id-6 div.sk-label-container {text-align: center;}#sk-container-id-6 div.sk-container {/* jupyter's `normalize.less` sets `[hidden] { display: none; }` but bootstrap.min.css set `[hidden] { display: none !important; }` so we also need the `!important` here to be able to override the default hidden behavior on the sphinx rendered scikit-learn.org. See: https://github.com/scikit-learn/scikit-learn/issues/21755 */display: inline-block !important;position: relative;}#sk-container-id-6 div.sk-text-repr-fallback {display: none;}</style><div id=\"sk-container-id-6\" class=\"sk-top-container\"><div class=\"sk-text-repr-fallback\"><pre>RandomForestClassifier(class_weight={0: 1.2, 1: 0.1}, min_samples_split=10,\n",
       "                       n_jobs=-1, random_state=32)</pre><b>In a Jupyter environment, please rerun this cell to show the HTML representation or trust the notebook. <br />On GitHub, the HTML representation is unable to render, please try loading this page with nbviewer.org.</b></div><div class=\"sk-container\" hidden><div class=\"sk-item\"><div class=\"sk-estimator sk-toggleable\"><input class=\"sk-toggleable__control sk-hidden--visually\" id=\"sk-estimator-id-6\" type=\"checkbox\" checked><label for=\"sk-estimator-id-6\" class=\"sk-toggleable__label sk-toggleable__label-arrow\">RandomForestClassifier</label><div class=\"sk-toggleable__content\"><pre>RandomForestClassifier(class_weight={0: 1.2, 1: 0.1}, min_samples_split=10,\n",
       "                       n_jobs=-1, random_state=32)</pre></div></div></div></div></div>"
      ],
      "text/plain": [
       "RandomForestClassifier(class_weight={0: 1.2, 1: 0.1}, min_samples_split=10,\n",
       "                       n_jobs=-1, random_state=32)"
      ]
     },
     "execution_count": 31,
     "metadata": {},
     "output_type": "execute_result"
    }
   ],
   "source": [
    "RFC_model_haikal.fit(x_train_gold,y_train_gold)"
   ]
  },
  {
   "cell_type": "code",
   "execution_count": 32,
   "metadata": {},
   "outputs": [],
   "source": [
    "x_val_gold = pd.concat( [x_val[scoring_functions],x_ml_classifer[[\"NNC\",\"TF2\"]]],axis=1)\n",
    "x_test_gold = pd.concat( [x_test[scoring_functions],x_ml_classifer_test[[\"NNC\",\"TF2\"]]],axis=1)"
   ]
  },
  {
   "cell_type": "code",
   "execution_count": 33,
   "metadata": {},
   "outputs": [
    {
     "name": "stderr",
     "output_type": "stream",
     "text": [
      "/home/barradd/miniconda3/envs/ml-module/lib/python3.9/site-packages/sklearn/base.py:409: UserWarning: X does not have valid feature names, but RandomForestClassifier was fitted with feature names\n",
      "  warnings.warn(\n",
      "/home/barradd/miniconda3/envs/ml-module/lib/python3.9/site-packages/sklearn/base.py:409: UserWarning: X does not have valid feature names, but RandomForestClassifier was fitted with feature names\n",
      "  warnings.warn(\n",
      "/home/barradd/miniconda3/envs/ml-module/lib/python3.9/site-packages/sklearn/base.py:409: UserWarning: X does not have valid feature names, but RandomForestClassifier was fitted with feature names\n",
      "  warnings.warn(\n",
      "/home/barradd/miniconda3/envs/ml-module/lib/python3.9/site-packages/sklearn/base.py:409: UserWarning: X does not have valid feature names, but RandomForestClassifier was fitted with feature names\n",
      "  warnings.warn(\n"
     ]
    }
   ],
   "source": [
    "df_core_RFC_val = convert_pred_a(model=RFC_model_core,my_x=x_val[[x_train.columns.to_list()]],my_y=y_val,tag=\"val\")\n",
    "df_core_RFC_test = convert_pred_a(model=RFC_model_core,my_x=x_test[[x_train.columns.to_list()]],my_y=y_test,tag=\"test\")\n",
    "df_snorkel_RFC_val = convert_pred_a(model=RFC_model_haikal,my_x=x_val_gold,my_y=y_val,tag=\"val\")\n",
    "df_snorkel_RFC_test = convert_pred_a(model=RFC_model_haikal,my_x=x_test_gold,my_y=y_test,tag=\"test\")"
   ]
  },
  {
   "cell_type": "code",
   "execution_count": 34,
   "metadata": {},
   "outputs": [
    {
     "name": "stdout",
     "output_type": "stream",
     "text": [
      "RFC [23, 30, 33, 45] val\n",
      "41.82 54.55 60.0 81.82000000000001 \n"
     ]
    },
    {
     "data": {
      "text/html": [
       "<div>\n",
       "<style scoped>\n",
       "    .dataframe tbody tr th:only-of-type {\n",
       "        vertical-align: middle;\n",
       "    }\n",
       "\n",
       "    .dataframe tbody tr th {\n",
       "        vertical-align: top;\n",
       "    }\n",
       "\n",
       "    .dataframe thead th {\n",
       "        text-align: right;\n",
       "    }\n",
       "</style>\n",
       "<table border=\"1\" class=\"dataframe\">\n",
       "  <thead>\n",
       "    <tr style=\"text-align: right;\">\n",
       "      <th></th>\n",
       "      <th>RFC</th>\n",
       "    </tr>\n",
       "  </thead>\n",
       "  <tbody>\n",
       "    <tr>\n",
       "      <th>1</th>\n",
       "      <td>41.82</td>\n",
       "    </tr>\n",
       "    <tr>\n",
       "      <th>10</th>\n",
       "      <td>54.55</td>\n",
       "    </tr>\n",
       "    <tr>\n",
       "      <th>100</th>\n",
       "      <td>60.00</td>\n",
       "    </tr>\n",
       "    <tr>\n",
       "      <th>1000</th>\n",
       "      <td>81.82</td>\n",
       "    </tr>\n",
       "  </tbody>\n",
       "</table>\n",
       "</div>"
      ],
      "text/plain": [
       "        RFC\n",
       "1     41.82\n",
       "10    54.55\n",
       "100   60.00\n",
       "1000  81.82"
      ]
     },
     "execution_count": 34,
     "metadata": {},
     "output_type": "execute_result"
    }
   ],
   "source": [
    "get_success_rate(df_core_RFC_val,\"val\",\"RFC\")"
   ]
  },
  {
   "cell_type": "code",
   "execution_count": 35,
   "metadata": {},
   "outputs": [
    {
     "name": "stdout",
     "output_type": "stream",
     "text": [
      "RFC [2, 7, 9, 13] test\n",
      "13.33 46.67 60.0 86.67 \n"
     ]
    },
    {
     "data": {
      "text/html": [
       "<div>\n",
       "<style scoped>\n",
       "    .dataframe tbody tr th:only-of-type {\n",
       "        vertical-align: middle;\n",
       "    }\n",
       "\n",
       "    .dataframe tbody tr th {\n",
       "        vertical-align: top;\n",
       "    }\n",
       "\n",
       "    .dataframe thead th {\n",
       "        text-align: right;\n",
       "    }\n",
       "</style>\n",
       "<table border=\"1\" class=\"dataframe\">\n",
       "  <thead>\n",
       "    <tr style=\"text-align: right;\">\n",
       "      <th></th>\n",
       "      <th>RFC</th>\n",
       "    </tr>\n",
       "  </thead>\n",
       "  <tbody>\n",
       "    <tr>\n",
       "      <th>1</th>\n",
       "      <td>13.33</td>\n",
       "    </tr>\n",
       "    <tr>\n",
       "      <th>10</th>\n",
       "      <td>46.67</td>\n",
       "    </tr>\n",
       "    <tr>\n",
       "      <th>100</th>\n",
       "      <td>60.00</td>\n",
       "    </tr>\n",
       "    <tr>\n",
       "      <th>1000</th>\n",
       "      <td>86.67</td>\n",
       "    </tr>\n",
       "  </tbody>\n",
       "</table>\n",
       "</div>"
      ],
      "text/plain": [
       "        RFC\n",
       "1     13.33\n",
       "10    46.67\n",
       "100   60.00\n",
       "1000  86.67"
      ]
     },
     "execution_count": 35,
     "metadata": {},
     "output_type": "execute_result"
    }
   ],
   "source": [
    "get_success_rate(df_core_RFC_test,\"test\",\"RFC\")"
   ]
  },
  {
   "cell_type": "code",
   "execution_count": 36,
   "metadata": {},
   "outputs": [
    {
     "name": "stdout",
     "output_type": "stream",
     "text": [
      "RFC-hAIkal [26, 28, 35, 46] val\n",
      "47.27 50.91 63.63999999999999 83.64 \n"
     ]
    },
    {
     "data": {
      "text/html": [
       "<div>\n",
       "<style scoped>\n",
       "    .dataframe tbody tr th:only-of-type {\n",
       "        vertical-align: middle;\n",
       "    }\n",
       "\n",
       "    .dataframe tbody tr th {\n",
       "        vertical-align: top;\n",
       "    }\n",
       "\n",
       "    .dataframe thead th {\n",
       "        text-align: right;\n",
       "    }\n",
       "</style>\n",
       "<table border=\"1\" class=\"dataframe\">\n",
       "  <thead>\n",
       "    <tr style=\"text-align: right;\">\n",
       "      <th></th>\n",
       "      <th>RFC-hAIkal</th>\n",
       "    </tr>\n",
       "  </thead>\n",
       "  <tbody>\n",
       "    <tr>\n",
       "      <th>1</th>\n",
       "      <td>47.27</td>\n",
       "    </tr>\n",
       "    <tr>\n",
       "      <th>10</th>\n",
       "      <td>50.91</td>\n",
       "    </tr>\n",
       "    <tr>\n",
       "      <th>100</th>\n",
       "      <td>63.64</td>\n",
       "    </tr>\n",
       "    <tr>\n",
       "      <th>1000</th>\n",
       "      <td>83.64</td>\n",
       "    </tr>\n",
       "  </tbody>\n",
       "</table>\n",
       "</div>"
      ],
      "text/plain": [
       "      RFC-hAIkal\n",
       "1          47.27\n",
       "10         50.91\n",
       "100        63.64\n",
       "1000       83.64"
      ]
     },
     "execution_count": 36,
     "metadata": {},
     "output_type": "execute_result"
    }
   ],
   "source": [
    "get_success_rate(df_snorkel_RFC_val,\"val\",\"RFC-hAIkal\")"
   ]
  },
  {
   "cell_type": "code",
   "execution_count": 37,
   "metadata": {},
   "outputs": [
    {
     "name": "stdout",
     "output_type": "stream",
     "text": [
      "RFC-hAIkal [3, 8, 8, 13] test\n",
      "20.0 53.33 53.33 86.67 \n"
     ]
    },
    {
     "data": {
      "text/html": [
       "<div>\n",
       "<style scoped>\n",
       "    .dataframe tbody tr th:only-of-type {\n",
       "        vertical-align: middle;\n",
       "    }\n",
       "\n",
       "    .dataframe tbody tr th {\n",
       "        vertical-align: top;\n",
       "    }\n",
       "\n",
       "    .dataframe thead th {\n",
       "        text-align: right;\n",
       "    }\n",
       "</style>\n",
       "<table border=\"1\" class=\"dataframe\">\n",
       "  <thead>\n",
       "    <tr style=\"text-align: right;\">\n",
       "      <th></th>\n",
       "      <th>RFC-hAIkal</th>\n",
       "    </tr>\n",
       "  </thead>\n",
       "  <tbody>\n",
       "    <tr>\n",
       "      <th>1</th>\n",
       "      <td>20.00</td>\n",
       "    </tr>\n",
       "    <tr>\n",
       "      <th>10</th>\n",
       "      <td>53.33</td>\n",
       "    </tr>\n",
       "    <tr>\n",
       "      <th>100</th>\n",
       "      <td>53.33</td>\n",
       "    </tr>\n",
       "    <tr>\n",
       "      <th>1000</th>\n",
       "      <td>86.67</td>\n",
       "    </tr>\n",
       "  </tbody>\n",
       "</table>\n",
       "</div>"
      ],
      "text/plain": [
       "      RFC-hAIkal\n",
       "1          20.00\n",
       "10         53.33\n",
       "100        53.33\n",
       "1000       86.67"
      ]
     },
     "execution_count": 37,
     "metadata": {},
     "output_type": "execute_result"
    }
   ],
   "source": [
    "get_success_rate(df_snorkel_RFC_test,\"test\",\"RFC-hAIkal\")"
   ]
  },
  {
   "cell_type": "code",
   "execution_count": 40,
   "metadata": {},
   "outputs": [
    {
     "name": "stdout",
     "output_type": "stream",
     "text": [
      "RFC [23, 30, 33, 45] val\n",
      "41.82 54.55 60.0 81.82000000000001 \n"
     ]
    },
    {
     "data": {
      "text/html": [
       "<div>\n",
       "<style scoped>\n",
       "    .dataframe tbody tr th:only-of-type {\n",
       "        vertical-align: middle;\n",
       "    }\n",
       "\n",
       "    .dataframe tbody tr th {\n",
       "        vertical-align: top;\n",
       "    }\n",
       "\n",
       "    .dataframe thead th {\n",
       "        text-align: right;\n",
       "    }\n",
       "</style>\n",
       "<table border=\"1\" class=\"dataframe\">\n",
       "  <thead>\n",
       "    <tr style=\"text-align: right;\">\n",
       "      <th></th>\n",
       "      <th>RFC</th>\n",
       "    </tr>\n",
       "  </thead>\n",
       "  <tbody>\n",
       "    <tr>\n",
       "      <th>1</th>\n",
       "      <td>41.82</td>\n",
       "    </tr>\n",
       "    <tr>\n",
       "      <th>10</th>\n",
       "      <td>54.55</td>\n",
       "    </tr>\n",
       "    <tr>\n",
       "      <th>100</th>\n",
       "      <td>60.00</td>\n",
       "    </tr>\n",
       "    <tr>\n",
       "      <th>1000</th>\n",
       "      <td>81.82</td>\n",
       "    </tr>\n",
       "  </tbody>\n",
       "</table>\n",
       "</div>"
      ],
      "text/plain": [
       "        RFC\n",
       "1     41.82\n",
       "10    54.55\n",
       "100   60.00\n",
       "1000  81.82"
      ]
     },
     "execution_count": 40,
     "metadata": {},
     "output_type": "execute_result"
    }
   ],
   "source": [
    "# get_success_rate(df_core_perceptron_val,\"val\",\"NN\")\n",
    "get_success_rate(df_core_RFC_val,\"val\",\"RFC\")"
   ]
  },
  {
   "cell_type": "code",
   "execution_count": 41,
   "metadata": {},
   "outputs": [
    {
     "name": "stdout",
     "output_type": "stream",
     "text": [
      "RFC-hAIkal [26, 28, 35, 46] val\n",
      "47.27 50.91 63.63999999999999 83.64 \n"
     ]
    },
    {
     "data": {
      "text/html": [
       "<div>\n",
       "<style scoped>\n",
       "    .dataframe tbody tr th:only-of-type {\n",
       "        vertical-align: middle;\n",
       "    }\n",
       "\n",
       "    .dataframe tbody tr th {\n",
       "        vertical-align: top;\n",
       "    }\n",
       "\n",
       "    .dataframe thead th {\n",
       "        text-align: right;\n",
       "    }\n",
       "</style>\n",
       "<table border=\"1\" class=\"dataframe\">\n",
       "  <thead>\n",
       "    <tr style=\"text-align: right;\">\n",
       "      <th></th>\n",
       "      <th>RFC-hAIkal</th>\n",
       "    </tr>\n",
       "  </thead>\n",
       "  <tbody>\n",
       "    <tr>\n",
       "      <th>1</th>\n",
       "      <td>47.27</td>\n",
       "    </tr>\n",
       "    <tr>\n",
       "      <th>10</th>\n",
       "      <td>50.91</td>\n",
       "    </tr>\n",
       "    <tr>\n",
       "      <th>100</th>\n",
       "      <td>63.64</td>\n",
       "    </tr>\n",
       "    <tr>\n",
       "      <th>1000</th>\n",
       "      <td>83.64</td>\n",
       "    </tr>\n",
       "  </tbody>\n",
       "</table>\n",
       "</div>"
      ],
      "text/plain": [
       "      RFC-hAIkal\n",
       "1          47.27\n",
       "10         50.91\n",
       "100        63.64\n",
       "1000       83.64"
      ]
     },
     "execution_count": 41,
     "metadata": {},
     "output_type": "execute_result"
    }
   ],
   "source": [
    "# get_success_rate(df_snorkel_perceptron_val,\"val\",\"NN-hAIkal\")\n",
    "get_success_rate(df_snorkel_RFC_val,\"val\",\"RFC-hAIkal\")"
   ]
  },
  {
   "cell_type": "code",
   "execution_count": null,
   "metadata": {},
   "outputs": [
    {
     "name": "stdout",
     "output_type": "stream",
     "text": [
      "NN [6, 7, 8, 13] test\n",
      "40.0 46.67 53.33 86.67 \n",
      "RFC [2, 7, 9, 13] test\n",
      "13.33 46.67 60.0 86.67 \n"
     ]
    },
    {
     "data": {
      "text/html": [
       "<div>\n",
       "<style scoped>\n",
       "    .dataframe tbody tr th:only-of-type {\n",
       "        vertical-align: middle;\n",
       "    }\n",
       "\n",
       "    .dataframe tbody tr th {\n",
       "        vertical-align: top;\n",
       "    }\n",
       "\n",
       "    .dataframe thead th {\n",
       "        text-align: right;\n",
       "    }\n",
       "</style>\n",
       "<table border=\"1\" class=\"dataframe\">\n",
       "  <thead>\n",
       "    <tr style=\"text-align: right;\">\n",
       "      <th></th>\n",
       "      <th>RFC</th>\n",
       "    </tr>\n",
       "  </thead>\n",
       "  <tbody>\n",
       "    <tr>\n",
       "      <th>1</th>\n",
       "      <td>13.33</td>\n",
       "    </tr>\n",
       "    <tr>\n",
       "      <th>10</th>\n",
       "      <td>46.67</td>\n",
       "    </tr>\n",
       "    <tr>\n",
       "      <th>100</th>\n",
       "      <td>60.00</td>\n",
       "    </tr>\n",
       "    <tr>\n",
       "      <th>1000</th>\n",
       "      <td>86.67</td>\n",
       "    </tr>\n",
       "  </tbody>\n",
       "</table>\n",
       "</div>"
      ],
      "text/plain": [
       "        RFC\n",
       "1     13.33\n",
       "10    46.67\n",
       "100   60.00\n",
       "1000  86.67"
      ]
     },
     "execution_count": 39,
     "metadata": {},
     "output_type": "execute_result"
    }
   ],
   "source": [
    "get_success_rate(df_core_perceptron_test,\"test\",\"NN\")\n",
    "get_success_rate(df_core_RFC_test,\"test\",\"RFC\")"
   ]
  },
  {
   "cell_type": "code",
   "execution_count": 42,
   "metadata": {},
   "outputs": [
    {
     "name": "stdout",
     "output_type": "stream",
     "text": [
      "RFC-hAIkal [3, 8, 8, 13] test\n",
      "20.0 53.33 53.33 86.67 \n"
     ]
    },
    {
     "data": {
      "text/html": [
       "<div>\n",
       "<style scoped>\n",
       "    .dataframe tbody tr th:only-of-type {\n",
       "        vertical-align: middle;\n",
       "    }\n",
       "\n",
       "    .dataframe tbody tr th {\n",
       "        vertical-align: top;\n",
       "    }\n",
       "\n",
       "    .dataframe thead th {\n",
       "        text-align: right;\n",
       "    }\n",
       "</style>\n",
       "<table border=\"1\" class=\"dataframe\">\n",
       "  <thead>\n",
       "    <tr style=\"text-align: right;\">\n",
       "      <th></th>\n",
       "      <th>RFC-hAIkal</th>\n",
       "    </tr>\n",
       "  </thead>\n",
       "  <tbody>\n",
       "    <tr>\n",
       "      <th>1</th>\n",
       "      <td>20.00</td>\n",
       "    </tr>\n",
       "    <tr>\n",
       "      <th>10</th>\n",
       "      <td>53.33</td>\n",
       "    </tr>\n",
       "    <tr>\n",
       "      <th>100</th>\n",
       "      <td>53.33</td>\n",
       "    </tr>\n",
       "    <tr>\n",
       "      <th>1000</th>\n",
       "      <td>86.67</td>\n",
       "    </tr>\n",
       "  </tbody>\n",
       "</table>\n",
       "</div>"
      ],
      "text/plain": [
       "      RFC-hAIkal\n",
       "1          20.00\n",
       "10         53.33\n",
       "100        53.33\n",
       "1000       86.67"
      ]
     },
     "execution_count": 42,
     "metadata": {},
     "output_type": "execute_result"
    }
   ],
   "source": [
    "# get_success_rate(df_snorkel_perceptron_test,\"test\",\"NN-hAIkal\")\n",
    "get_success_rate(df_snorkel_RFC_test,\"test\",\"RFC-hAIkal\")\n"
   ]
  },
  {
   "cell_type": "code",
   "execution_count": 43,
   "metadata": {},
   "outputs": [],
   "source": [
    "import tensorflow as tf\n",
    "from tensorflow.keras.models import Sequential\n",
    "from tensorflow.keras.layers import Dense, Activation,Dropout\n",
    "from tensorflow.keras.layers import Dropout\n",
    "from tensorflow.keras.callbacks import EarlyStopping"
   ]
  },
  {
   "cell_type": "code",
   "execution_count": 44,
   "metadata": {},
   "outputs": [],
   "source": [
    "### Deep Neural network \n",
    "def build_model():\n",
    "    model = Sequential()\n",
    "    model.add(Dense(units=40,activation='relu',input_dim=8))\n",
    "    model.add(Dense(units=16,activation='relu'))\n",
    "    model.add(Dropout(0.2))\n",
    "\n",
    "    model.add(Dense(units=16,activation='relu'))\n",
    "    model.add(Dense(units=16,activation='relu'))\n",
    "    model.add(Dropout(0.2))\n",
    "\n",
    "    model.add(Dense(units=16,activation='relu'))\n",
    "    model.add(Dense(units=16,activation='relu'))\n",
    "    model.add(Dropout(0.2))\n",
    "    \n",
    "    model.add(Dense(units=16,activation='relu'))\n",
    "    model.add(Dense(units=16,activation='relu'))\n",
    "    \n",
    "    model.add(Dense(units=1,activation='sigmoid'))\n",
    "    model.compile(loss='binary_crossentropy', optimizer='adam')\n",
    "    return model"
   ]
  },
  {
   "cell_type": "code",
   "execution_count": 45,
   "metadata": {},
   "outputs": [],
   "source": [
    "early_stop = EarlyStopping(monitor='val_loss', mode='min', verbose=1, patience=25)"
   ]
  },
  {
   "cell_type": "code",
   "execution_count": 46,
   "metadata": {},
   "outputs": [],
   "source": [
    "DNN_model = build_model()"
   ]
  },
  {
   "cell_type": "code",
   "execution_count": null,
   "metadata": {},
   "outputs": [],
   "source": [
    "def read_data_gold_data_TF2() :\n",
    "    \"\"\"This funtion takes the data that is already standarized \"\"\"\n",
    "    scoring_functions = ['CONSRANK_val', 'CP_HLPL', 'CP_MJ3h', 'DDG_V', 'CP_RMFCA', 'AP_GOAP_DF','TF2','NNC']\n",
    "\n",
    "    path1 = \"../data/snorkel_train_gold_set.csv\" \n",
    "\n",
    "    df_set_balanced = pd.read_csv(path1)\n",
    " \n",
    "    df_set_balanced.set_index(\"Conf\",inplace=True)\n",
    "    \n",
    "     ## Split into Training , validation and Testing Sets \n",
    "    x_train = df_set_balanced[~df_set_balanced[\"idx\"].isin(PDB_BM5)]\n",
    "    y_train = df_set_balanced[~df_set_balanced[\"idx\"].isin(PDB_BM5)][\"label_binary\"].astype(\"bool\")\n",
    "    # x_val_bal = df_set_balanced[df_set_balanced[\"idx\"].isin(PDB_BM5)]\n",
    "    # y_val_bal = df_set_balanced[df_set_balanced[\"idx\"].isin(PDB_BM5)][\"label_binary\"].astype(\"bool\")\n",
    "    \n",
    "    ## Select the features for the sets \n",
    "    x_train= x_train[scoring_functions] \n",
    "\n",
    "    ## Make a copy for handling better \n",
    "    \n",
    "    x_train = x_train.copy()\n",
    "    y_train = y_train.copy()\n",
    " \n",
    "    return x_train, y_train\n"
   ]
  },
  {
   "cell_type": "code",
   "execution_count": 47,
   "metadata": {},
   "outputs": [],
   "source": [
    "x_val_gold = pd.concat( [x_val[scoring_functions],x_ml_classifer[[\"NNC\",\"TF2\"]]],axis=1)\n",
    "x_test_gold = pd.concat( [x_test[scoring_functions],x_ml_classifer_test[[\"NNC\",\"TF2\"]]],axis=1)"
   ]
  },
  {
   "cell_type": "code",
   "execution_count": 48,
   "metadata": {},
   "outputs": [],
   "source": [
    "x_train_gold, y_train_gold = read_data_gold_data_RF()"
   ]
  },
  {
   "cell_type": "code",
   "execution_count": 49,
   "metadata": {},
   "outputs": [
    {
     "name": "stdout",
     "output_type": "stream",
     "text": [
      "Epoch 1/100\n",
      "132022/132022 [==============================] - 456s 3ms/step - loss: 36.2012 - val_loss: 0.6455\n",
      "Epoch 2/100\n",
      "132022/132022 [==============================] - 458s 3ms/step - loss: 7.2536 - val_loss: 0.5409\n",
      "Epoch 3/100\n",
      "132022/132022 [==============================] - 459s 3ms/step - loss: 0.4190 - val_loss: 0.5922\n",
      "Epoch 4/100\n",
      "132022/132022 [==============================] - 459s 3ms/step - loss: 3.8597 - val_loss: 0.5020\n",
      "Epoch 5/100\n",
      "132022/132022 [==============================] - 461s 3ms/step - loss: 0.0722 - val_loss: 0.6292\n",
      "Epoch 6/100\n",
      "132022/132022 [==============================] - 456s 3ms/step - loss: 281.1795 - val_loss: 0.6344\n",
      "Epoch 7/100\n",
      "132022/132022 [==============================] - 462s 3ms/step - loss: 11.1287 - val_loss: 0.5530\n",
      "Epoch 8/100\n",
      "132022/132022 [==============================] - 463s 4ms/step - loss: 195.6101 - val_loss: 0.6222\n",
      "Epoch 9/100\n",
      "132022/132022 [==============================] - 468s 4ms/step - loss: 0.4888 - val_loss: 0.5259\n",
      "Epoch 10/100\n",
      "132022/132022 [==============================] - 475s 4ms/step - loss: 8.7479 - val_loss: 0.4417\n",
      "Epoch 11/100\n",
      "132022/132022 [==============================] - 478s 4ms/step - loss: 252.7701 - val_loss: 0.5565\n",
      "Epoch 12/100\n",
      "132022/132022 [==============================] - 456s 3ms/step - loss: 1.6051 - val_loss: 0.4935\n",
      "Epoch 13/100\n",
      "132022/132022 [==============================] - 456s 3ms/step - loss: 2.8122 - val_loss: 0.4545\n",
      "Epoch 14/100\n",
      "132022/132022 [==============================] - 456s 3ms/step - loss: 26.4919 - val_loss: 0.5325\n",
      "Epoch 15/100\n",
      "132022/132022 [==============================] - 462s 3ms/step - loss: 243.5453 - val_loss: 0.4127\n",
      "Epoch 16/100\n",
      "132022/132022 [==============================] - 459s 3ms/step - loss: 15.9951 - val_loss: 0.5507\n",
      "Epoch 17/100\n",
      "132022/132022 [==============================] - 460s 3ms/step - loss: 502.5107 - val_loss: 0.5139\n",
      "Epoch 18/100\n",
      "132022/132022 [==============================] - 462s 4ms/step - loss: 98.2612 - val_loss: 0.5287\n",
      "Epoch 19/100\n",
      "132022/132022 [==============================] - 461s 3ms/step - loss: 326.2639 - val_loss: 0.4274\n",
      "Epoch 20/100\n",
      "132022/132022 [==============================] - 462s 3ms/step - loss: 108.8118 - val_loss: 0.5331\n",
      "Epoch 21/100\n",
      "132022/132022 [==============================] - 458s 3ms/step - loss: 83.7841 - val_loss: 0.4597\n",
      "Epoch 22/100\n",
      "132022/132022 [==============================] - 456s 3ms/step - loss: 45.1568 - val_loss: 0.5482\n",
      "Epoch 23/100\n",
      "132022/132022 [==============================] - 472s 4ms/step - loss: 0.9380 - val_loss: 0.4931\n",
      "Epoch 24/100\n",
      "132022/132022 [==============================] - 469s 4ms/step - loss: 368.6267 - val_loss: 0.4406\n",
      "Epoch 25/100\n",
      "132022/132022 [==============================] - 458s 3ms/step - loss: 6956.1431 - val_loss: 0.5283\n",
      "Epoch 26/100\n",
      "132022/132022 [==============================] - 457s 3ms/step - loss: 15.5630 - val_loss: 0.4354\n",
      "Epoch 27/100\n",
      "132022/132022 [==============================] - 459s 3ms/step - loss: 1041.6110 - val_loss: 0.4429\n",
      "Epoch 28/100\n",
      "132022/132022 [==============================] - 457s 3ms/step - loss: 476.4037 - val_loss: 0.7063\n",
      "Epoch 29/100\n",
      "132022/132022 [==============================] - 461s 3ms/step - loss: 15979.9492 - val_loss: 0.3901\n",
      "Epoch 30/100\n",
      "132022/132022 [==============================] - 462s 3ms/step - loss: 269.3328 - val_loss: 0.3871\n",
      "Epoch 31/100\n",
      "132022/132022 [==============================] - 459s 3ms/step - loss: 4.0172 - val_loss: 0.3584\n",
      "Epoch 32/100\n",
      "132022/132022 [==============================] - 463s 4ms/step - loss: 2993.5715 - val_loss: 0.7006\n",
      "Epoch 33/100\n",
      "132022/132022 [==============================] - 458s 3ms/step - loss: 1606.7526 - val_loss: 0.4619\n",
      "Epoch 34/100\n",
      "132022/132022 [==============================] - 456s 3ms/step - loss: 11323.3613 - val_loss: 0.6113\n",
      "Epoch 35/100\n",
      "132022/132022 [==============================] - 456s 3ms/step - loss: 57788.9219 - val_loss: 0.5958\n",
      "Epoch 36/100\n",
      "132022/132022 [==============================] - 458s 3ms/step - loss: 5373.1172 - val_loss: 1.5125\n",
      "Epoch 37/100\n",
      "132022/132022 [==============================] - 455s 3ms/step - loss: 6.1954 - val_loss: 0.4859\n",
      "Epoch 38/100\n",
      "132022/132022 [==============================] - 453s 3ms/step - loss: 15452.6523 - val_loss: 0.4757\n",
      "Epoch 39/100\n",
      "132022/132022 [==============================] - 453s 3ms/step - loss: 28068.8867 - val_loss: 0.5071\n",
      "Epoch 40/100\n",
      "132022/132022 [==============================] - 451s 3ms/step - loss: 8.3484 - val_loss: 0.7046\n",
      "Epoch 41/100\n",
      "132022/132022 [==============================] - 453s 3ms/step - loss: 17841.6602 - val_loss: 0.4259\n",
      "Epoch 42/100\n",
      "132022/132022 [==============================] - 529s 4ms/step - loss: 3671.3667 - val_loss: 0.4450\n",
      "Epoch 43/100\n",
      "132022/132022 [==============================] - 537s 4ms/step - loss: 4315.1924 - val_loss: 0.4220\n",
      "Epoch 44/100\n",
      "132022/132022 [==============================] - 541s 4ms/step - loss: 17.0911 - val_loss: 0.5084\n",
      "Epoch 45/100\n",
      "132022/132022 [==============================] - 498s 4ms/step - loss: 4536.9028 - val_loss: 0.4221\n",
      "Epoch 46/100\n",
      "132022/132022 [==============================] - 462s 3ms/step - loss: 65085.9570 - val_loss: 0.5799\n",
      "Epoch 47/100\n",
      "132022/132022 [==============================] - 463s 4ms/step - loss: 15220.8838 - val_loss: 0.8209\n",
      "Epoch 48/100\n",
      "132022/132022 [==============================] - 462s 3ms/step - loss: 19.8823 - val_loss: 0.7147\n",
      "Epoch 49/100\n",
      "132022/132022 [==============================] - 459s 3ms/step - loss: 6.8623 - val_loss: 0.7556\n",
      "Epoch 50/100\n",
      "132022/132022 [==============================] - 461s 3ms/step - loss: 3185.0122 - val_loss: 0.5267\n",
      "Epoch 51/100\n",
      "132022/132022 [==============================] - 460s 3ms/step - loss: 124.4395 - val_loss: 0.5675\n",
      "Epoch 52/100\n",
      "132022/132022 [==============================] - 465s 4ms/step - loss: 133.3522 - val_loss: 1.1210\n",
      "Epoch 53/100\n",
      "132022/132022 [==============================] - 464s 4ms/step - loss: 5039.9204 - val_loss: 0.9428\n",
      "Epoch 54/100\n",
      "132022/132022 [==============================] - 465s 4ms/step - loss: 155.3266 - val_loss: 0.5155\n",
      "Epoch 55/100\n",
      "132022/132022 [==============================] - 467s 4ms/step - loss: 377.2564 - val_loss: 0.4018\n",
      "Epoch 56/100\n",
      "132022/132022 [==============================] - 465s 4ms/step - loss: 47.6426 - val_loss: 0.5018\n",
      "Epoch 56: early stopping\n"
     ]
    },
    {
     "data": {
      "text/plain": [
       "<keras.callbacks.History at 0x7f8e0e6cd430>"
      ]
     },
     "execution_count": 49,
     "metadata": {},
     "output_type": "execute_result"
    }
   ],
   "source": [
    "DNN_model.fit(x=x_train_gold.to_numpy(),\n",
    "          y=y_train_gold.to_numpy(), \n",
    "          epochs=100,\n",
    "          validation_data=(x_val_gold.to_numpy(), y_val.to_numpy()), \n",
    "          verbose=1,\n",
    "          callbacks=[early_stop]\n",
    "          )"
   ]
  },
  {
   "cell_type": "code",
   "execution_count": null,
   "metadata": {},
   "outputs": [
    {
     "name": "stdout",
     "output_type": "stream",
     "text": [
      "CONSRANK_val 0\n",
      "CP_HLPL 0\n",
      "CP_MJ3h 0\n",
      "DDG_V 0\n",
      "CP_RMFCA 0\n",
      "AP_GOAP_DF 0\n",
      "RFC 0\n",
      "NNC 0\n"
     ]
    }
   ],
   "source": [
    "for m in x_val_gold.columns.to_list():\n",
    "    my_na = x_train[x_train[m].isna() == True ]\n",
    "    print (m,my_na.shape[0])"
   ]
  },
  {
   "cell_type": "code",
   "execution_count": null,
   "metadata": {},
   "outputs": [
    {
     "data": {
      "text/plain": [
       "(157767, 8)"
      ]
     },
     "execution_count": 50,
     "metadata": {},
     "output_type": "execute_result"
    }
   ],
   "source": [
    "x_val_gold.shape"
   ]
  },
  {
   "cell_type": "code",
   "execution_count": null,
   "metadata": {},
   "outputs": [
    {
     "data": {
      "text/html": [
       "<div>\n",
       "<style scoped>\n",
       "    .dataframe tbody tr th:only-of-type {\n",
       "        vertical-align: middle;\n",
       "    }\n",
       "\n",
       "    .dataframe tbody tr th {\n",
       "        vertical-align: top;\n",
       "    }\n",
       "\n",
       "    .dataframe thead th {\n",
       "        text-align: right;\n",
       "    }\n",
       "</style>\n",
       "<table border=\"1\" class=\"dataframe\">\n",
       "  <thead>\n",
       "    <tr style=\"text-align: right;\">\n",
       "      <th></th>\n",
       "      <th>CONSRANK_val</th>\n",
       "      <th>CP_HLPL</th>\n",
       "      <th>CP_MJ3h</th>\n",
       "      <th>DDG_V</th>\n",
       "      <th>CP_RMFCA</th>\n",
       "      <th>AP_GOAP_DF</th>\n",
       "      <th>RFC</th>\n",
       "      <th>NNC</th>\n",
       "    </tr>\n",
       "    <tr>\n",
       "      <th>Conf</th>\n",
       "      <th></th>\n",
       "      <th></th>\n",
       "      <th></th>\n",
       "      <th></th>\n",
       "      <th></th>\n",
       "      <th></th>\n",
       "      <th></th>\n",
       "      <th></th>\n",
       "    </tr>\n",
       "  </thead>\n",
       "  <tbody>\n",
       "  </tbody>\n",
       "</table>\n",
       "</div>"
      ],
      "text/plain": [
       "Empty DataFrame\n",
       "Columns: [CONSRANK_val, CP_HLPL, CP_MJ3h, DDG_V, CP_RMFCA, AP_GOAP_DF, RFC, NNC]\n",
       "Index: []"
      ]
     },
     "execution_count": 51,
     "metadata": {},
     "output_type": "execute_result"
    }
   ],
   "source": [
    "x_train[x_train.NNC.isna() == True ]"
   ]
  },
  {
   "cell_type": "code",
   "execution_count": 50,
   "metadata": {},
   "outputs": [],
   "source": [
    "DNN_model.save(f'../models/TF2_model_for_Ws.h5')"
   ]
  },
  {
   "cell_type": "code",
   "execution_count": 59,
   "metadata": {},
   "outputs": [],
   "source": [
    "import pickle"
   ]
  },
  {
   "cell_type": "code",
   "execution_count": 60,
   "metadata": {},
   "outputs": [],
   "source": [
    "def store(b, file_name):\n",
    "    pickle.dump(b, open(file_name, \"wb\"))\n"
   ]
  },
  {
   "cell_type": "code",
   "execution_count": 61,
   "metadata": {},
   "outputs": [],
   "source": [
    "store(PCR_gold , '../models/PCR_haikal_for_Ws.pickle')\n",
    "store(RFC_model_haikal , '../models/RFC_haikal_for_Ws.pickle')"
   ]
  },
  {
   "cell_type": "code",
   "execution_count": null,
   "metadata": {},
   "outputs": [
    {
     "data": {
      "text/plain": [
       "array([0.14005727, 0.17810914, 0.0734944 , 0.16473502, 0.19207643,\n",
       "       0.17126157, 0.0366392 , 0.04362697])"
      ]
     },
     "execution_count": 56,
     "metadata": {},
     "output_type": "execute_result"
    }
   ],
   "source": [
    "RFC_model_haikal.feature_importances_"
   ]
  },
  {
   "cell_type": "code",
   "execution_count": null,
   "metadata": {},
   "outputs": [
    {
     "data": {
      "text/plain": [
       "(8, 24)"
      ]
     },
     "execution_count": 73,
     "metadata": {},
     "output_type": "execute_result"
    }
   ],
   "source": [
    "PCR_gold.coefs_[0].shape"
   ]
  },
  {
   "cell_type": "code",
   "execution_count": null,
   "metadata": {},
   "outputs": [
    {
     "data": {
      "text/plain": [
       "array([-24.46021681,   1.17478964,   0.08034624,   0.47741979,\n",
       "        -1.70503827,   0.93513041, -10.86875436,   2.23682232])"
      ]
     },
     "execution_count": 74,
     "metadata": {},
     "output_type": "execute_result"
    }
   ],
   "source": [
    "PCR_gold.coefs_[0].mean(axis=1)"
   ]
  },
  {
   "cell_type": "code",
   "execution_count": null,
   "metadata": {},
   "outputs": [
    {
     "data": {
      "text/plain": [
       "[<tf.Variable 'dense/kernel:0' shape=(8, 30) dtype=float32, numpy=\n",
       " array([[-7.6104843e+01, -1.0926995e+00,  6.8563437e-01, -2.3213940e+00,\n",
       "         -1.0307978e+00, -9.7981036e-01, -8.3011574e+01,  1.3398010e-01,\n",
       "         -1.1219685e+00,  1.2900512e-01,  2.5956282e-01,  1.7038462e-01,\n",
       "          4.9186018e-01, -2.8577831e-01,  1.2503041e+00, -4.0837023e-01,\n",
       "         -1.0822339e+00,  3.0879599e-01,  5.8575943e-02,  1.6348727e-01,\n",
       "          2.3884250e-01,  1.8233667e-01, -1.7178452e+00, -4.0716705e-01,\n",
       "          2.4719672e-01, -8.2018913e+01, -7.4510860e-01, -1.3050075e+00,\n",
       "          1.6965991e-01, -4.6697807e-01],\n",
       "        [-1.7634428e-01,  3.2978758e-01, -1.0909324e+00, -1.7471002e+00,\n",
       "          6.2476987e-01,  1.8678041e-01,  2.5369599e-01,  1.1823199e+00,\n",
       "          9.9854529e-02, -3.9984566e-01, -7.7376097e-01, -7.2462785e-01,\n",
       "         -1.2170029e+00,  7.6740915e-01, -2.6981339e+00, -6.1524528e-01,\n",
       "         -1.5394731e-01,  1.0278294e+00,  1.4286319e-02, -6.6061312e-01,\n",
       "         -6.3262600e-01, -8.0402768e-01, -2.3383717e-03,  5.7335997e-01,\n",
       "         -7.2580111e-01,  1.8826564e-01,  6.6487241e-01, -6.2485035e-03,\n",
       "         -8.2191491e-01,  3.2777882e-01],\n",
       "        [ 2.0831428e+00, -4.8440394e-01,  1.9517705e+00, -3.7967879e-01,\n",
       "         -2.5821513e-01,  4.6006236e-02,  4.2277966e+00,  3.3178713e-02,\n",
       "         -6.9885445e-01, -9.7530492e-02, -8.4537625e-01, -1.3934605e-01,\n",
       "         -6.6543663e-01,  3.0661553e-01,  6.4015901e-01, -1.2608968e+00,\n",
       "         -8.2904613e-01,  6.4417887e-01,  4.0225603e-02, -6.4050287e-01,\n",
       "         -9.2184015e-02, -1.5560542e-01, -1.2732124e+00,  7.4633442e-02,\n",
       "         -1.1878922e-01,  2.6480196e+00, -1.9835234e-01, -9.0347987e-01,\n",
       "          1.2096006e-02, -5.0723448e-02],\n",
       "        [ 6.1191207e-01,  4.1053301e-01,  1.5433381e+00,  2.1994035e+00,\n",
       "         -6.3335949e-01, -2.2129455e-01, -5.9803593e-01, -7.6127946e-01,\n",
       "          7.1992677e-01, -9.0177685e-01, -1.1426091e+00, -7.1134686e-01,\n",
       "         -1.5170425e+00,  1.3495429e+00,  7.8393310e-01, -4.9381530e-01,\n",
       "         -1.9703482e-01,  3.1100926e-01, -6.4846176e-01, -1.0820712e+00,\n",
       "         -9.1995245e-01,  6.7991364e-01, -3.4346965e-01,  1.1169914e+00,\n",
       "         -8.4883362e-01,  4.6036074e-01,  1.5113890e+00, -3.3790529e-01,\n",
       "         -6.7946976e-01,  3.0679983e-01],\n",
       "        [ 1.8095569e-01,  4.6288821e-01, -1.1940672e+00, -2.6636517e-01,\n",
       "          3.8143367e-01, -3.2669461e-01,  3.0439019e-01,  1.4886611e+00,\n",
       "          5.6566769e-01, -7.0140982e-01,  1.2785693e-01, -6.9725734e-01,\n",
       "         -7.7252433e-02,  1.1067328e+00, -1.0111748e+00, -1.7811646e-01,\n",
       "          1.4581066e+00,  1.2622328e+00, -5.6755310e-01,  1.9315787e-01,\n",
       "         -8.4643990e-01, -9.6282989e-01,  8.0479258e-01,  1.0393343e+00,\n",
       "         -7.1370941e-01,  2.4027286e-01,  1.3865874e+00,  1.3883816e+00,\n",
       "         -1.0140209e+00,  4.1411629e-01],\n",
       "        [ 1.0433353e+00, -5.1182753e-01, -3.0662761e+00, -4.1533914e-01,\n",
       "         -3.8901627e-01, -1.1298960e+00,  1.2942551e+00,  7.2079492e-01,\n",
       "         -4.4889075e-01, -8.4914595e-01, -9.1264993e-01, -1.2435638e-01,\n",
       "         -1.0729456e+00,  5.9369755e-01,  3.8071744e-02, -1.2419829e+00,\n",
       "         -7.6654577e-01,  9.7246343e-01, -1.1255807e+00, -6.5123707e-01,\n",
       "         -4.0575477e-01, -1.0897302e-01, -9.1087449e-01,  4.3138453e-01,\n",
       "         -2.4374643e-01,  1.0652622e+00,  4.2360029e-01, -6.3352334e-01,\n",
       "         -2.2896384e-01, -1.4451247e-01],\n",
       "        [-1.0406204e+00, -9.9818367e-01,  9.0687610e-02, -8.4260142e-01,\n",
       "         -1.2979237e+00, -1.4576710e+00, -6.4132375e-01, -2.3744068e-01,\n",
       "         -6.5437317e-01,  7.0720935e-01,  8.0261558e-01,  5.6546903e-01,\n",
       "          2.0911016e+00,  1.7693873e-01,  3.8407433e-01, -3.1301966e-01,\n",
       "         -1.0131664e+00, -8.3500725e-01, -1.4486909e-01,  4.6989381e-01,\n",
       "          6.2094313e-01,  1.0039115e-02, -8.2399291e-01,  2.4438603e-01,\n",
       "          6.4052182e-01, -8.8749415e-01,  2.2026889e-01, -8.8814932e-01,\n",
       "         -2.1409783e-01, -1.2087810e+00],\n",
       "        [-6.1668128e-01, -4.6663902e+01,  3.1020086e+00,  1.7356430e+00,\n",
       "         -1.7184949e+00, -1.1552180e+01, -7.3501027e-01, -1.4183012e+01,\n",
       "         -3.5515163e+01,  6.8487269e-01,  4.1167345e+00,  5.8531278e-01,\n",
       "          1.0806310e+00, -4.5802731e+01,  3.2169456e+00,  5.6169729e+00,\n",
       "         -3.3215317e+01, -1.4122823e+01, -3.2600559e+01,  4.6965046e+00,\n",
       "          6.9824624e-01, -1.6684710e+01, -4.1031963e+01, -3.6818130e+01,\n",
       "          6.2667620e-01, -8.1708866e-01, -2.0922127e+01, -1.3644260e+01,\n",
       "         -2.0872850e+01, -1.1945750e+01]], dtype=float32)>,\n",
       " <tf.Variable 'dense/bias:0' shape=(30,) dtype=float32, numpy=\n",
       " array([-0.3192585 , -3.7730982 , -2.636737  , -1.3177154 , -1.9439788 ,\n",
       "        -0.27550533, -1.7056545 , -1.5549659 , -3.441573  ,  1.0412883 ,\n",
       "        -2.1266258 ,  0.76736754,  0.57680374, -2.5162244 , -2.1941814 ,\n",
       "        -4.0472493 , -3.9692342 , -1.8411918 ,  1.3918579 , -2.9628031 ,\n",
       "         1.0465885 ,  0.54600185, -3.366061  , -2.043687  ,  0.83589256,\n",
       "        -0.88716197, -2.323362  , -2.961355  ,  1.6018165 , -2.7294416 ],\n",
       "       dtype=float32)>,\n",
       " <tf.Variable 'dense_1/kernel:0' shape=(30, 15) dtype=float32, numpy=\n",
       " array([[  6.447094  , -49.497177  , -12.186725  ,   6.06171   ,\n",
       "           6.5568104 , -29.856522  , -16.379112  , -46.62599   ,\n",
       "         -19.97544   ,   8.957132  ,  -7.792221  ,   0.5646019 ,\n",
       "         -22.186232  ,   5.515934  ,   0.7893732 ],\n",
       "        [ 42.45453   , -39.75031   , -41.935143  ,  38.76124   ,\n",
       "          38.920506  , -49.609425  , -51.741764  , -52.754425  ,\n",
       "         -25.809841  ,  45.962105  , -44.498753  ,   2.8854415 ,\n",
       "         -24.334196  ,  30.384327  ,   4.624026  ],\n",
       "        [-31.292324  ,  16.798326  ,  22.586258  , -29.506945  ,\n",
       "         -27.165789  ,  21.82037   ,  17.702818  ,  28.4675    ,\n",
       "          10.713252  , -17.632553  ,  17.22004   , -10.274705  ,\n",
       "           7.1607375 , -33.43432   , -14.02225   ],\n",
       "        [-30.062044  ,  11.713322  ,   9.64871   , -18.107073  ,\n",
       "         -26.456284  ,   9.920042  ,   7.336559  ,   9.0450325 ,\n",
       "           0.8743387 , -18.083559  ,   8.662036  , -11.529217  ,\n",
       "           1.1670296 , -23.85604   , -10.728172  ],\n",
       "        [ 40.887005  , -42.088734  , -48.37368   ,  32.098675  ,\n",
       "          45.169865  , -42.202637  , -45.05491   , -59.798645  ,\n",
       "         -16.311892  ,  37.73304   , -44.94813   ,   1.3625429 ,\n",
       "         -23.325178  ,  25.526598  ,   2.3004856 ],\n",
       "        [-85.52073   ,  41.230812  ,  39.92556   , -75.81816   ,\n",
       "         -84.027336  ,  41.988205  ,  49.609837  ,  36.942757  ,\n",
       "           7.8287663 , -71.18753   ,  45.57156   , -30.408117  ,\n",
       "           5.1075387 , -78.773674  , -36.946796  ],\n",
       "        [ 10.117679  , -46.31136   , -16.559204  ,   4.992494  ,\n",
       "           4.147806  , -41.325947  , -20.63104   , -55.300465  ,\n",
       "         -22.145685  ,   6.4598107 , -11.053141  ,   0.37159568,\n",
       "         -20.313486  ,   9.854657  ,   0.58727366],\n",
       "        [ 29.091389  , -32.019836  , -42.201416  ,  23.097206  ,\n",
       "          26.797901  , -41.837425  , -35.906384  , -54.88326   ,\n",
       "         -14.982618  ,  19.672836  , -33.916035  ,   1.7147415 ,\n",
       "         -15.215443  ,  22.47528   ,   2.9773183 ],\n",
       "        [ 27.326664  , -33.803963  , -33.348293  ,  21.65237   ,\n",
       "          19.130566  , -37.729782  , -44.209526  , -33.864746  ,\n",
       "         -31.567595  ,  18.79602   , -39.093494  ,   1.2618197 ,\n",
       "         -23.279747  ,  19.331049  ,   2.8897665 ],\n",
       "        [-39.84523   ,  13.895088  ,  14.157114  , -37.991932  ,\n",
       "         -43.96472   ,  16.250807  ,   7.4984274 ,  10.477901  ,\n",
       "           2.9756677 , -28.469498  ,  10.552124  , -37.937187  ,\n",
       "           1.4580704 , -43.032024  , -24.409714  ],\n",
       "        [-31.550375  ,   8.288914  ,  11.588629  , -30.662018  ,\n",
       "         -33.838284  ,   9.563052  ,  10.834407  ,   9.223072  ,\n",
       "           4.1710124 , -21.84823   ,   5.1474943 , -11.043293  ,\n",
       "           1.6649253 , -32.319958  , -11.848031  ],\n",
       "        [-37.046055  ,  12.139665  ,  12.55422   , -33.425865  ,\n",
       "         -38.779663  ,  16.62004   ,  15.010238  ,  11.013469  ,\n",
       "           5.200984  , -26.691803  ,  12.210024  , -35.498653  ,\n",
       "           1.736052  , -41.298885  , -21.867594  ],\n",
       "        [-27.426842  ,   9.63431   ,   7.9521475 , -25.666306  ,\n",
       "         -29.70147   ,  13.933435  ,  10.831258  ,   8.412522  ,\n",
       "           2.3035414 , -20.248384  ,   9.777294  , -12.731049  ,\n",
       "           1.4857558 , -29.379673  , -11.934422  ],\n",
       "        [ 35.152782  , -47.383377  , -43.822388  ,  42.084614  ,\n",
       "          31.977339  , -48.648834  , -38.802338  , -55.545048  ,\n",
       "         -21.058498  ,  33.748016  , -38.100414  ,   2.760714  ,\n",
       "         -18.133448  ,  34.19035   ,   3.9906135 ],\n",
       "        [-21.863117  ,   8.00775   ,  13.889858  , -15.039968  ,\n",
       "         -21.4747    ,  14.601475  ,  13.382513  ,   7.7547393 ,\n",
       "           3.3075151 , -15.064516  ,   9.8970175 , -10.624723  ,\n",
       "           1.242441  , -21.626432  ,  -9.238226  ],\n",
       "        [-35.78191   ,   5.4181695 ,  12.618561  , -27.679407  ,\n",
       "         -33.053596  ,   5.229674  ,  16.158962  ,  10.478325  ,\n",
       "           2.5516927 , -24.408243  ,  10.92829   ,  -6.194756  ,\n",
       "           1.9090073 , -34.43954   ,  -9.378787  ],\n",
       "        [ 10.472946  , -28.714388  , -31.948814  ,  11.252157  ,\n",
       "          13.809083  , -28.447855  , -34.088715  , -32.465096  ,\n",
       "         -27.607176  ,  15.988193  , -31.4492    ,   0.15941715,\n",
       "         -18.158598  ,   4.907848  ,   0.63908374],\n",
       "        [ 41.171535  , -16.203947  , -26.190628  ,  34.11585   ,\n",
       "          45.831127  , -27.886671  , -28.357586  , -26.305315  ,\n",
       "         -13.2501135 ,  21.269457  , -28.753939  ,   2.1235569 ,\n",
       "         -11.635792  ,  33.933342  ,   3.0442636 ],\n",
       "        [-64.14499   ,  28.100105  ,  36.444168  , -60.026203  ,\n",
       "         -63.98869   ,  30.406992  ,  39.598785  ,  32.240753  ,\n",
       "          10.416993  , -45.89893   ,  29.511984  , -40.359257  ,\n",
       "           5.171344  , -72.19547   , -41.468742  ],\n",
       "        [-33.297207  ,  11.388654  ,  10.448425  , -30.72038   ,\n",
       "         -36.237514  ,  14.102692  ,  16.795225  ,   9.401336  ,\n",
       "           2.8996897 , -23.615658  ,   7.1297846 ,  -9.750807  ,\n",
       "           1.8548787 , -36.462547  , -11.6804285 ],\n",
       "        [-30.952286  ,   9.73271   ,  10.6742    , -28.536003  ,\n",
       "         -34.268684  ,  10.254457  ,  15.47611   ,  10.985875  ,\n",
       "           3.0665605 , -22.218262  ,   8.615996  , -25.3061    ,\n",
       "           1.6294777 , -34.08674   , -15.089132  ],\n",
       "        [-80.76677   ,  30.04131   ,  34.49165   , -72.22206   ,\n",
       "         -74.76846   ,  30.85228   ,  23.277647  ,  25.852695  ,\n",
       "           3.666197  , -56.328785  ,  20.997215  , -18.307579  ,\n",
       "           1.7366178 , -73.93864   , -27.786295  ],\n",
       "        [ 15.283523  , -38.130787  , -37.169502  ,  20.416471  ,\n",
       "          22.095488  , -41.217342  , -40.312164  , -48.38099   ,\n",
       "         -21.250086  ,  22.109213  , -34.181973  ,   0.7653501 ,\n",
       "         -20.789663  ,  16.2174    ,   1.8569691 ],\n",
       "        [ 42.09723   , -45.115936  , -52.988636  ,  39.23359   ,\n",
       "          38.518734  , -50.040386  , -53.083878  , -49.36377   ,\n",
       "         -32.190742  ,  35.662754  , -49.187805  ,   2.9715748 ,\n",
       "         -33.850945  ,  42.464684  ,   4.1262813 ],\n",
       "        [-37.945908  ,  13.425423  ,  13.789663  , -33.45857   ,\n",
       "         -41.908066  ,  18.518976  ,   5.101232  ,   9.256228  ,\n",
       "           4.418081  , -25.961876  ,  21.647182  , -33.404423  ,\n",
       "           1.6190537 , -42.280132  , -22.644238  ],\n",
       "        [  7.504869  , -49.014183  , -13.546467  ,   7.1038613 ,\n",
       "           3.9739282 , -31.924759  , -17.473679  , -51.674107  ,\n",
       "         -23.09036   ,   5.7613573 ,  -7.8052487 ,   0.34577027,\n",
       "         -22.923073  ,   7.7458096 ,   0.55796486],\n",
       "        [ 28.150229  , -36.34507   , -29.240334  ,  20.244236  ,\n",
       "          19.752533  , -32.70086   , -30.325499  , -33.50078   ,\n",
       "         -26.426275  ,  22.163177  , -25.769686  ,   2.0145879 ,\n",
       "         -29.567303  ,  31.450558  ,   2.7357442 ],\n",
       "        [ 17.926075  , -29.644861  , -37.775066  ,   9.376781  ,\n",
       "          11.709363  , -35.49405   , -36.556698  , -42.003113  ,\n",
       "         -16.699373  ,  12.173772  , -33.183453  ,   0.52128094,\n",
       "         -22.778912  ,   8.584624  ,   1.1112542 ],\n",
       "        [-45.020405  ,  17.579449  ,  17.537966  , -42.777863  ,\n",
       "         -44.47759   ,  20.411041  ,  22.65411   ,  15.965396  ,\n",
       "           6.3714385 , -32.782845  ,  18.939442  , -28.333075  ,\n",
       "           2.760143  , -51.304134  , -29.734446  ],\n",
       "        [ 30.078138  , -27.408827  , -29.662645  ,  28.372408  ,\n",
       "          22.155823  , -35.922478  , -37.31571   , -30.831364  ,\n",
       "         -16.048927  ,  22.410767  , -30.020197  ,   1.6385652 ,\n",
       "         -14.09245   ,  28.34619   ,   3.3094463 ]], dtype=float32)>,\n",
       " <tf.Variable 'dense_1/bias:0' shape=(15,) dtype=float32, numpy=\n",
       " array([ 7.5057292e+00, -3.6555101e-04,  2.8331909e-01,  6.4799433e+00,\n",
       "         4.6656880e+00, -1.1196276e-02, -9.7941523e+00, -1.0314450e-03,\n",
       "        -1.2524544e-02,  7.3586650e+00,  1.1243559e+00,  5.4647654e-01,\n",
       "        -2.4074169e-02,  5.9766984e+00,  6.8693614e-01], dtype=float32)>,\n",
       " <tf.Variable 'dense_2/kernel:0' shape=(15, 1) dtype=float32, numpy=\n",
       " array([[-0.03421379],\n",
       "        [ 0.03666508],\n",
       "        [ 0.02810749],\n",
       "        [-0.03533554],\n",
       "        [-0.04104049],\n",
       "        [ 0.02825931],\n",
       "        [ 0.02619349],\n",
       "        [ 0.03692324],\n",
       "        [ 0.10101359],\n",
       "        [ 0.01532483],\n",
       "        [ 0.02479463],\n",
       "        [-0.6233874 ],\n",
       "        [ 0.2484848 ],\n",
       "        [-0.03918603],\n",
       "        [-0.45849293]], dtype=float32)>,\n",
       " <tf.Variable 'dense_2/bias:0' shape=(1,) dtype=float32, numpy=array([-0.3866766], dtype=float32)>]"
      ]
     },
     "execution_count": 94,
     "metadata": {},
     "output_type": "execute_result"
    }
   ],
   "source": [
    " DNN_model.weights"
   ]
  },
  {
   "cell_type": "code",
   "execution_count": null,
   "metadata": {},
   "outputs": [
    {
     "data": {
      "text/plain": [
       "(None, 8)"
      ]
     },
     "execution_count": 95,
     "metadata": {},
     "output_type": "execute_result"
    }
   ],
   "source": [
    "DNN_model.input_shape"
   ]
  },
  {
   "cell_type": "code",
   "execution_count": null,
   "metadata": {},
   "outputs": [
    {
     "data": {
      "text/plain": [
       "TensorShape([8, 30])"
      ]
     },
     "execution_count": 113,
     "metadata": {},
     "output_type": "execute_result"
    }
   ],
   "source": [
    "DNN_model.weights[0].get_shape()"
   ]
  },
  {
   "cell_type": "code",
   "execution_count": 62,
   "metadata": {},
   "outputs": [
    {
     "data": {
      "text/plain": [
       "array([-1.3212645 , -0.62730306,  0.3123238 , -0.24291953, -0.44588393,\n",
       "       -0.09557076, -2.0085049 , -1.2761909 ], dtype=float32)"
      ]
     },
     "execution_count": 62,
     "metadata": {},
     "output_type": "execute_result"
    }
   ],
   "source": [
    "DNN_model.weights[0].numpy().mean(axis=1)"
   ]
  },
  {
   "cell_type": "code",
   "execution_count": 63,
   "metadata": {},
   "outputs": [],
   "source": [
    "scoring_functions_rfc = ['CONSRANK_val', 'CP_HLPL', 'CP_MJ3h', 'DDG_V', 'CP_RMFCA', 'AP_GOAP_DF','PRC','TF2']\n"
   ]
  },
  {
   "cell_type": "code",
   "execution_count": 65,
   "metadata": {},
   "outputs": [],
   "source": [
    "feat_rfc = pd.DataFrame([RFC_model_haikal.feature_importances_] , columns= scoring_functions_rfc ) \n",
    "feat_nnc = pd.DataFrame([PCR_gold.coefs_[0].mean(axis=1)] , columns= scoring_functions_rfc )\n",
    "feat_dnn = pd.DataFrame([DNN_model.weights[0].numpy().mean(axis=1)] , columns= scoring_functions_rfc )  "
   ]
  },
  {
   "cell_type": "code",
   "execution_count": 66,
   "metadata": {},
   "outputs": [
    {
     "name": "stdout",
     "output_type": "stream",
     "text": [
      ",,CONSRANK_val,CP_HLPL,CP_MJ3h,DDG_V,CP_RMFCA,AP_GOAP_DF,PRC,TF2\n",
      "RFC,0,0.14005727079365152,0.17810913555857397,0.0734943950476807,0.16473502371583007,0.19207642835705954,0.17126157363234124,0.03663920296381242,0.04362696993105059\n",
      "PRC,0,-29.451714106646293,-3.209337420624555,0.12833598891395404,0.6884689638496502,-0.532188995810691,1.7510614579536277,-2.326788126457157,-2.7415447901516505\n",
      "TF2,0,-1.3212645053863525,-0.6273030638694763,0.31232380867004395,-0.24291953444480896,-0.44588392972946167,-0.09557075798511505,-2.008504867553711,-1.2761908769607544\n",
      "\n"
     ]
    }
   ],
   "source": [
    "print ( pd.concat( [ feat_rfc, feat_nnc,feat_dnn], keys=['RFC','PRC','TF2']  ).to_csv() ) "
   ]
  },
  {
   "cell_type": "code",
   "execution_count": 69,
   "metadata": {},
   "outputs": [
    {
     "data": {
      "text/plain": [
       "',RFC,PRC,TF2\\n,0,0,0\\nCONSRANK_val,0.14005727079365152,-29.451714106646293,-1.3212645053863525\\nCP_HLPL,0.17810913555857397,-3.209337420624555,-0.6273030638694763\\nCP_MJ3h,0.0734943950476807,0.12833598891395404,0.31232380867004395\\nDDG_V,0.16473502371583007,0.6884689638496502,-0.24291953444480896\\nCP_RMFCA,0.19207642835705954,-0.532188995810691,-0.44588392972946167\\nAP_GOAP_DF,0.17126157363234124,1.7510614579536277,-0.09557075798511505\\nPRC,0.03663920296381242,-2.326788126457157,-2.008504867553711\\nTF2,0.04362696993105059,-2.7415447901516505,-1.2761908769607544\\n'"
      ]
     },
     "execution_count": 69,
     "metadata": {},
     "output_type": "execute_result"
    }
   ],
   "source": [
    "pd.concat( [ feat_rfc, feat_nnc,feat_dnn], keys=['RFC','PRC','TF2']  ).T.to_csv()"
   ]
  },
  {
   "cell_type": "code",
   "execution_count": null,
   "metadata": {},
   "outputs": [],
   "source": []
  }
 ],
 "metadata": {
  "kernelspec": {
   "display_name": "ml-module",
   "language": "python",
   "name": "python3"
  },
  "language_info": {
   "codemirror_mode": {
    "name": "ipython",
    "version": 3
   },
   "file_extension": ".py",
   "mimetype": "text/x-python",
   "name": "python",
   "nbconvert_exporter": "python",
   "pygments_lexer": "ipython3",
   "version": "3.9.15"
  },
  "vscode": {
   "interpreter": {
    "hash": "87b1768c10be84fdd1ddeb630f61d152c8c6ef441ce5df32a6fe3c96debb7252"
   }
  }
 },
 "nbformat": 4,
 "nbformat_minor": 4
}
