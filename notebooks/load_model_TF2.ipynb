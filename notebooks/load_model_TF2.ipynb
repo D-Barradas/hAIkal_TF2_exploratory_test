{
 "cells": [
  {
   "cell_type": "code",
   "execution_count": 1,
   "metadata": {},
   "outputs": [],
   "source": [
    "import pandas as pd \n",
    "import pickle \n",
    "from libray import *\n",
    "import tensorflow as tf\n",
    "from tensorflow.keras.models import Sequential\n",
    "from tensorflow.keras.layers import Dense, Activation,Dropout\n",
    "from tensorflow.keras.layers import Dropout\n",
    "from tensorflow.keras.callbacks import EarlyStopping"
   ]
  },
  {
   "cell_type": "code",
   "execution_count": 2,
   "metadata": {},
   "outputs": [],
   "source": [
    "# DNN = tf.keras.models.load_model(\"../models/TF2_models_snorkel_trained_16_0.2_adam_3.h5\")"
   ]
  },
  {
   "cell_type": "code",
   "execution_count": 3,
   "metadata": {},
   "outputs": [],
   "source": [
    "# DNN.summary()"
   ]
  },
  {
   "cell_type": "code",
   "execution_count": 10,
   "metadata": {},
   "outputs": [
    {
     "data": {
      "text/plain": [
       "['CONSRANK_val', 'CP_HLPL', 'CP_MJ3h', 'DDG_V', 'CP_RMFCA', 'AP_GOAP_DF']"
      ]
     },
     "execution_count": 10,
     "metadata": {},
     "output_type": "execute_result"
    }
   ],
   "source": [
    "# DNN.weights[0].numpy().mean(axis=1)\n",
    "scoring_functions"
   ]
  },
  {
   "cell_type": "code",
   "execution_count": 5,
   "metadata": {},
   "outputs": [],
   "source": [
    "x_train, y_train,x_val , y_val, x_test , y_test , x_val_bal , y_val_bal , x_test_bal , y_test_bal, x_ml_classifer,x_ml_classifer_test, x_ml_classifer_bal, x_ml_classifer_test_bal = read_data()"
   ]
  },
  {
   "cell_type": "code",
   "execution_count": 11,
   "metadata": {},
   "outputs": [],
   "source": [
    "x_val = pd.concat( [x_val[scoring_functions],x_ml_classifer[[\"NNC\",\"TF2\"]]],axis=1)\n",
    "x_test = pd.concat( [x_test[scoring_functions],x_ml_classifer_test[[\"NNC\",\"TF2\"]]],axis=1)"
   ]
  },
  {
   "cell_type": "code",
   "execution_count": 12,
   "metadata": {},
   "outputs": [],
   "source": [
    "x_val_bal = pd.concat( [x_val[scoring_functions],x_ml_classifer[[\"NNC\",\"TF2\"]]],axis=1)\n",
    "x_test_bal = pd.concat( [x_test[scoring_functions],x_ml_classifer_test[[\"NNC\",\"TF2\"]]],axis=1)"
   ]
  },
  {
   "cell_type": "code",
   "execution_count": 13,
   "metadata": {},
   "outputs": [
    {
     "name": "stdout",
     "output_type": "stream",
     "text": [
      "595/595 [==============================] - 1s 1ms/step\n",
      "4931/4931 [==============================] - 6s 1ms/step\n",
      "595/595 [==============================] - 1s 1ms/step\n"
     ]
    },
    {
     "ename": "ValueError",
     "evalue": "Found input variables with inconsistent numbers of samples: [3990, 19011]",
     "output_type": "error",
     "traceback": [
      "\u001b[0;31m---------------------------------------------------------------------------\u001b[0m",
      "\u001b[0;31mValueError\u001b[0m                                Traceback (most recent call last)",
      "Cell \u001b[0;32mIn[13], line 13\u001b[0m\n\u001b[1;32m     11\u001b[0m tf_val \u001b[39m=\u001b[39m save_metrics_results(model\u001b[39m=\u001b[39mmy_model_1,x_test\u001b[39m=\u001b[39mx_val, y_test\u001b[39m=\u001b[39my_val , tag\u001b[39m=\u001b[39m\u001b[39mf\u001b[39m\u001b[39m\"\u001b[39m\u001b[39m{\u001b[39;00mmodel\u001b[39m}\u001b[39;00m\u001b[39m\"\u001b[39m )\n\u001b[1;32m     12\u001b[0m all_results_validation\u001b[39m.\u001b[39mappend(tf_val)\n\u001b[0;32m---> 13\u001b[0m tf_test_bal \u001b[39m=\u001b[39m save_metrics_results(model\u001b[39m=\u001b[39;49mmy_model_1,x_test\u001b[39m=\u001b[39;49mx_test_bal, y_test\u001b[39m=\u001b[39;49my_test_bal , tag\u001b[39m=\u001b[39;49m\u001b[39mf\u001b[39;49m\u001b[39m\"\u001b[39;49m\u001b[39m{\u001b[39;49;00mmodel\u001b[39m}\u001b[39;49;00m\u001b[39m\"\u001b[39;49m)\n\u001b[1;32m     14\u001b[0m all_results_test_bal\u001b[39m.\u001b[39mappend(tf_test_bal)\n\u001b[1;32m     15\u001b[0m tf_val_bal \u001b[39m=\u001b[39m save_metrics_results(model\u001b[39m=\u001b[39mmy_model_1,x_test\u001b[39m=\u001b[39mx_val_bal, y_test\u001b[39m=\u001b[39my_val_bal , tag\u001b[39m=\u001b[39m\u001b[39mf\u001b[39m\u001b[39m\"\u001b[39m\u001b[39m{\u001b[39;00mmodel\u001b[39m}\u001b[39;00m\u001b[39m\"\u001b[39m )\n",
      "File \u001b[0;32m~/Documents/GitHub/hAIkal_TF2_exploratory_test/notebooks/libray.py:131\u001b[0m, in \u001b[0;36msave_metrics_results\u001b[0;34m(model, x_test, y_test, tag)\u001b[0m\n\u001b[1;32m    124\u001b[0m \u001b[39mdef\u001b[39;00m \u001b[39msave_metrics_results\u001b[39m(model,x_test,y_test,tag):\n\u001b[1;32m    125\u001b[0m     \u001b[39m# target_names = ['Incorrect', 'Correct']\u001b[39;00m\n\u001b[1;32m    126\u001b[0m \n\u001b[1;32m    127\u001b[0m     \u001b[39m# y_pred = model.predict_classes(x_test.to_numpy())\u001b[39;00m\n\u001b[1;32m    128\u001b[0m     \u001b[39m# y_pred = (model.predict(x_test.to_numpy()) > 0.5).astype(\"int32\")\u001b[39;00m\n\u001b[1;32m    129\u001b[0m     y_pred \u001b[39m=\u001b[39m (model\u001b[39m.\u001b[39mpredict(x_test\u001b[39m.\u001b[39mto_numpy()) \u001b[39m>\u001b[39m \u001b[39m0.5\u001b[39m)\u001b[39m.\u001b[39mastype(\u001b[39m\"\u001b[39m\u001b[39mbool\u001b[39m\u001b[39m\"\u001b[39m)\n\u001b[0;32m--> 131\u001b[0m     cr \u001b[39m=\u001b[39m classification_report(y_true\u001b[39m=\u001b[39;49my_test, y_pred\u001b[39m=\u001b[39;49my_pred,output_dict\u001b[39m=\u001b[39;49m\u001b[39mTrue\u001b[39;49;00m,digits\u001b[39m=\u001b[39;49m\u001b[39m4\u001b[39;49m,zero_division\u001b[39m=\u001b[39;49m\u001b[39m0\u001b[39;49m)\n\u001b[1;32m    132\u001b[0m     tn, fp, fn, tp \u001b[39m=\u001b[39m confusion_matrix(y_true\u001b[39m=\u001b[39my_test, y_pred\u001b[39m=\u001b[39my_pred)\u001b[39m.\u001b[39mravel()\n\u001b[1;32m    133\u001b[0m     \u001b[39m# print (tn, fp, fn, tp)\u001b[39;00m\n\u001b[1;32m    134\u001b[0m     \u001b[39m### this depends on the opinion, having these values at zero, is that the model just returns one label \u001b[39;00m\n\u001b[1;32m    135\u001b[0m     \u001b[39m### while MMC = 0 is basically random prediction , could be interpreted as bad classification\u001b[39;00m\n\u001b[1;32m    136\u001b[0m     \u001b[39m## I set the value of MMC to -1 beacuase is the worst case \u001b[39;00m\n",
      "File \u001b[0;32m~/miniconda3/envs/ml-module/lib/python3.9/site-packages/sklearn/metrics/_classification.py:2310\u001b[0m, in \u001b[0;36mclassification_report\u001b[0;34m(y_true, y_pred, labels, target_names, sample_weight, digits, output_dict, zero_division)\u001b[0m\n\u001b[1;32m   2195\u001b[0m \u001b[39mdef\u001b[39;00m \u001b[39mclassification_report\u001b[39m(\n\u001b[1;32m   2196\u001b[0m     y_true,\n\u001b[1;32m   2197\u001b[0m     y_pred,\n\u001b[0;32m   (...)\u001b[0m\n\u001b[1;32m   2204\u001b[0m     zero_division\u001b[39m=\u001b[39m\u001b[39m\"\u001b[39m\u001b[39mwarn\u001b[39m\u001b[39m\"\u001b[39m,\n\u001b[1;32m   2205\u001b[0m ):\n\u001b[1;32m   2206\u001b[0m \u001b[39m    \u001b[39m\u001b[39m\"\"\"Build a text report showing the main classification metrics.\u001b[39;00m\n\u001b[1;32m   2207\u001b[0m \n\u001b[1;32m   2208\u001b[0m \u001b[39m    Read more in the :ref:`User Guide <classification_report>`.\u001b[39;00m\n\u001b[0;32m   (...)\u001b[0m\n\u001b[1;32m   2307\u001b[0m \u001b[39m    <BLANKLINE>\u001b[39;00m\n\u001b[1;32m   2308\u001b[0m \u001b[39m    \"\"\"\u001b[39;00m\n\u001b[0;32m-> 2310\u001b[0m     y_type, y_true, y_pred \u001b[39m=\u001b[39m _check_targets(y_true, y_pred)\n\u001b[1;32m   2312\u001b[0m     \u001b[39mif\u001b[39;00m labels \u001b[39mis\u001b[39;00m \u001b[39mNone\u001b[39;00m:\n\u001b[1;32m   2313\u001b[0m         labels \u001b[39m=\u001b[39m unique_labels(y_true, y_pred)\n",
      "File \u001b[0;32m~/miniconda3/envs/ml-module/lib/python3.9/site-packages/sklearn/metrics/_classification.py:86\u001b[0m, in \u001b[0;36m_check_targets\u001b[0;34m(y_true, y_pred)\u001b[0m\n\u001b[1;32m     59\u001b[0m \u001b[39mdef\u001b[39;00m \u001b[39m_check_targets\u001b[39m(y_true, y_pred):\n\u001b[1;32m     60\u001b[0m \u001b[39m    \u001b[39m\u001b[39m\"\"\"Check that y_true and y_pred belong to the same classification task.\u001b[39;00m\n\u001b[1;32m     61\u001b[0m \n\u001b[1;32m     62\u001b[0m \u001b[39m    This converts multiclass or binary types to a common shape, and raises a\u001b[39;00m\n\u001b[0;32m   (...)\u001b[0m\n\u001b[1;32m     84\u001b[0m \u001b[39m    y_pred : array or indicator matrix\u001b[39;00m\n\u001b[1;32m     85\u001b[0m \u001b[39m    \"\"\"\u001b[39;00m\n\u001b[0;32m---> 86\u001b[0m     check_consistent_length(y_true, y_pred)\n\u001b[1;32m     87\u001b[0m     type_true \u001b[39m=\u001b[39m type_of_target(y_true, input_name\u001b[39m=\u001b[39m\u001b[39m\"\u001b[39m\u001b[39my_true\u001b[39m\u001b[39m\"\u001b[39m)\n\u001b[1;32m     88\u001b[0m     type_pred \u001b[39m=\u001b[39m type_of_target(y_pred, input_name\u001b[39m=\u001b[39m\u001b[39m\"\u001b[39m\u001b[39my_pred\u001b[39m\u001b[39m\"\u001b[39m)\n",
      "File \u001b[0;32m~/miniconda3/envs/ml-module/lib/python3.9/site-packages/sklearn/utils/validation.py:397\u001b[0m, in \u001b[0;36mcheck_consistent_length\u001b[0;34m(*arrays)\u001b[0m\n\u001b[1;32m    395\u001b[0m uniques \u001b[39m=\u001b[39m np\u001b[39m.\u001b[39munique(lengths)\n\u001b[1;32m    396\u001b[0m \u001b[39mif\u001b[39;00m \u001b[39mlen\u001b[39m(uniques) \u001b[39m>\u001b[39m \u001b[39m1\u001b[39m:\n\u001b[0;32m--> 397\u001b[0m     \u001b[39mraise\u001b[39;00m \u001b[39mValueError\u001b[39;00m(\n\u001b[1;32m    398\u001b[0m         \u001b[39m\"\u001b[39m\u001b[39mFound input variables with inconsistent numbers of samples: \u001b[39m\u001b[39m%r\u001b[39;00m\u001b[39m\"\u001b[39m\n\u001b[1;32m    399\u001b[0m         \u001b[39m%\u001b[39m [\u001b[39mint\u001b[39m(l) \u001b[39mfor\u001b[39;00m l \u001b[39min\u001b[39;00m lengths]\n\u001b[1;32m    400\u001b[0m     )\n",
      "\u001b[0;31mValueError\u001b[0m: Found input variables with inconsistent numbers of samples: [3990, 19011]"
     ]
    }
   ],
   "source": [
    "models = [m for m in os.listdir(\"../models/\") if \".h5\" in m  ]\n",
    "\n",
    "all_results_test , all_results_validation = [], [] \n",
    "all_results_test_bal , all_results_validation_bal = [], [] \n",
    "success_rate_test, success_rate_val = [] ,[] \n",
    "for model in models :\n",
    "    # print (f\"model = {model}\")    \n",
    "    my_model_1 = tf.keras.models.load_model(f\"../models/{model}\")\n",
    "    tf_test = save_metrics_results(model=my_model_1,x_test=x_test, y_test=y_test , tag=f\"{model}\")\n",
    "    all_results_test.append(tf_test)\n",
    "    tf_val = save_metrics_results(model=my_model_1,x_test=x_val, y_test=y_val , tag=f\"{model}\" )\n",
    "    all_results_validation.append(tf_val)\n",
    "    tf_test_bal = save_metrics_results(model=my_model_1,x_test=x_test_bal, y_test=y_test_bal , tag=f\"{model}\")\n",
    "    all_results_test_bal.append(tf_test_bal)\n",
    "    tf_val_bal = save_metrics_results(model=my_model_1,x_test=x_val_bal, y_test=y_val_bal , tag=f\"{model}\" )\n",
    "    all_results_validation_bal.append(tf_val_bal)\n",
    "    df_pred = convert_pred ( my_model_1, x_test, y_test ,\"test\" )\n",
    "    # print (df_pred.head())\n",
    "    success_rate_test.append( get_success_rate(df_pred,\"test\",tag=f\"{model}\") )\n",
    "\n",
    "    df_pred = convert_pred ( my_model_1, x_val, y_val ,\"val\"  )\n",
    "    success_rate_val.append(get_success_rate ( df_pred,\"val\", tag=f'{model}' ) )\n",
    "    # print (df_pred.head())"
   ]
  },
  {
   "cell_type": "code",
   "execution_count": null,
   "metadata": {},
   "outputs": [],
   "source": [
    "def sort_my_df(all_results_test):\n",
    "    df_all_results = pd.concat(all_results_test)\n",
    "    # print (df_all_results.sort_values(\"Accuracy\",ascending=False),end=\"\\n\")\n",
    "    df_all_results = df_all_results.sort_values(\"Accuracy\",ascending=False)\n",
    "    return df_all_results"
   ]
  },
  {
   "cell_type": "code",
   "execution_count": null,
   "metadata": {},
   "outputs": [],
   "source": [
    "df_all_results = sort_my_df(all_results_test)\n",
    "# df_all_results.to_csv(\"../results/TF2_models_test_scorers_set_results_metrics_arch.csv\")\n",
    "# df_all_results.to_csv(\"../results/TF2_models_test_scorers_set_results_metrics_all.csv\")\n",
    "\n",
    "df_all_results = sort_my_df(all_results_validation)\n",
    "# df_all_results.to_csv(\"../results/TF2_models_validation_metrics_arch.csv\")\n",
    "# df_all_results.to_csv(\"../results/TF2_models_validation_metrics_all.csv\")\n",
    "\n",
    "df_all_results = sort_my_df(all_results_test_bal)\n",
    "# df_all_results.to_csv(\"../results/TF2_models_test_scorers_set_results_metrics_balanced_arch.csv\")\n",
    "# df_all_results.to_csv(\"../results/TF2_models_test_scorers_set_results_metrics_balanced_all.csv\")\n",
    "\n",
    "df_all_results = sort_my_df(all_results_validation_bal)\n",
    "# df_all_results.to_csv(\"../results/TF2_models_validation_metrics_balanced_arch.csv\")\n",
    "# df_all_results.to_csv(\"../results/TF2_models_validation_metrics_balanced_all.csv\")\n",
    "\n",
    "SR_val = pd.concat(success_rate_val,axis=1)\n",
    "SR_test = pd.concat(success_rate_test, axis=1)\n",
    "\n",
    "# print (SR_test)\n",
    "# print(SR_val)\n",
    "\n",
    "#SR_val.T.to_csv(\"../results/success_rate_validation_TF2_models.csv\")\n",
    "#SR_test.T.to_csv(\"../results/success_rate_test_TF2_models.csv\")\n",
    "# SR_val.T.to_csv(\"../results/success_rate_validation_TF2_models_arch.csv\")\n",
    "# SR_val.T.to_csv(\"../results/success_rate_validation_TF2_models_all.csv\")\n",
    "# SR_test.T.to_csv(\"../results/success_rate_test_TF2_models_arch.csv\")\n",
    "# SR_test.T.to_csv(\"../results/success_rate_test_TF2_models_all.csv\")"
   ]
  },
  {
   "cell_type": "code",
   "execution_count": null,
   "metadata": {},
   "outputs": [],
   "source": []
  }
 ],
 "metadata": {
  "kernelspec": {
   "display_name": "ml-module",
   "language": "python",
   "name": "python3"
  },
  "language_info": {
   "codemirror_mode": {
    "name": "ipython",
    "version": 3
   },
   "file_extension": ".py",
   "mimetype": "text/x-python",
   "name": "python",
   "nbconvert_exporter": "python",
   "pygments_lexer": "ipython3",
   "version": "3.9.15"
  },
  "orig_nbformat": 4,
  "vscode": {
   "interpreter": {
    "hash": "87b1768c10be84fdd1ddeb630f61d152c8c6ef441ce5df32a6fe3c96debb7252"
   }
  }
 },
 "nbformat": 4,
 "nbformat_minor": 2
}
