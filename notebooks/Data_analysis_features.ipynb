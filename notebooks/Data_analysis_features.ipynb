{
 "cells": [
  {
   "cell_type": "code",
   "execution_count": 2,
   "id": "c9f89093-0d04-4cc7-bd2e-f117fd1f5117",
   "metadata": {},
   "outputs": [],
   "source": [
    "import pandas as pd \n",
    "import pickle \n",
    "from libray import *\n",
    "import tensorflow as tf\n",
    "from tensorflow.keras.models import Sequential\n",
    "from tensorflow.keras.layers import Dense, Activation,Dropout\n",
    "from tensorflow.keras.layers import Dropout\n",
    "from tensorflow.keras.callbacks import EarlyStopping"
   ]
  },
  {
   "cell_type": "code",
   "execution_count": 3,
   "id": "9ea95d5f-0233-4b21-ac58-1dc88b232fb1",
   "metadata": {},
   "outputs": [
    {
     "name": "stdout",
     "output_type": "stream",
     "text": [
      "Pandas version 1.5.2\n"
     ]
    }
   ],
   "source": [
    "print (f\"Pandas version {pd.__version__}\")"
   ]
  },
  {
   "cell_type": "code",
   "execution_count": 4,
   "id": "df22a466-0286-4d41-919c-d9705fd76764",
   "metadata": {},
   "outputs": [
    {
     "name": "stdout",
     "output_type": "stream",
     "text": [
      "Tensorflow version: 2.9.1\n"
     ]
    }
   ],
   "source": [
    "print (f\"Tensorflow version: {tf.__version__}\")"
   ]
  },
  {
   "cell_type": "code",
   "execution_count": 5,
   "id": "f5b650b0-3d5f-4f61-9c7e-43e74a78bf56",
   "metadata": {},
   "outputs": [],
   "source": [
    "def load(file_name):\n",
    "    b = {}\n",
    "    try:\n",
    "        b = pickle.load(open(file_name, \"rb\"))\n",
    "        print(\"Loading Successful\")\n",
    "        return b\n",
    "    except (OSError, IOError) as e:\n",
    "        print(\"Loading Failed. Initializing to empty\")\n",
    "        b = {}\n",
    "        return b"
   ]
  },
  {
   "cell_type": "code",
   "execution_count": 6,
   "id": "0325e311-31b0-41e0-baf7-a23239efe8b9",
   "metadata": {},
   "outputs": [
    {
     "name": "stdout",
     "output_type": "stream",
     "text": [
      "Loading Successful\n",
      "Loading Successful\n"
     ]
    }
   ],
   "source": [
    "RFC = load(\"../models/RFC_haikal_for_Ws.pickle\")\n",
    "NCC = load(\"../models/PCR_haikal_for_Ws.pickle\")\n"
   ]
  },
  {
   "cell_type": "code",
   "execution_count": 7,
   "id": "39833052",
   "metadata": {},
   "outputs": [
    {
     "ename": "",
     "evalue": "",
     "output_type": "error",
     "traceback": [
      "\u001b[1;31mCanceled future for execute_request message before replies were done"
     ]
    },
    {
     "ename": "",
     "evalue": "",
     "output_type": "error",
     "traceback": [
      "\u001b[1;31mThe Kernel crashed while executing code in the the current cell or a previous cell. Please review the code in the cell(s) to identify a possible cause of the failure. Click <a href='https://aka.ms/vscodeJupyterKernelCrash'>here</a> for more info. View Jupyter <a href='command:jupyter.viewOutput'>log</a> for further details."
     ]
    }
   ],
   "source": [
    "DNN = tf.keras.models.load_model(\"../models/TF2_model_for_Ws.h5\")"
   ]
  },
  {
   "cell_type": "code",
   "execution_count": null,
   "id": "903817d7-8115-4920-bda7-b94f0d50f865",
   "metadata": {},
   "outputs": [
    {
     "data": {
      "text/plain": [
       "array([-24.46021681,   1.17478964,   0.08034624,   0.47741979,\n",
       "        -1.70503827,   0.93513041, -10.86875436,   2.23682232])"
      ]
     },
     "execution_count": 6,
     "metadata": {},
     "output_type": "execute_result"
    }
   ],
   "source": [
    "NCC.coefs_[0].mean(axis=1)"
   ]
  },
  {
   "cell_type": "code",
   "execution_count": null,
   "id": "a3996ddb-c747-46f1-a9af-141a59a55d92",
   "metadata": {},
   "outputs": [
    {
     "data": {
      "text/plain": [
       "array([0.14005727, 0.17810914, 0.0734944 , 0.16473502, 0.19207643,\n",
       "       0.17126157, 0.0366392 , 0.04362697])"
      ]
     },
     "execution_count": 7,
     "metadata": {},
     "output_type": "execute_result"
    }
   ],
   "source": [
    "RFC.feature_importances_"
   ]
  },
  {
   "cell_type": "code",
   "execution_count": null,
   "id": "7bdce6d7-b85b-4724-b3a2-268f329b984a",
   "metadata": {},
   "outputs": [
    {
     "data": {
      "text/plain": [
       "array([-8.3203621e+00, -2.3365001e-01,  1.2053961e-01, -1.0901808e-03,\n",
       "        1.4162257e-01, -2.9330578e-01, -2.1581888e-01, -1.2443406e+01],\n",
       "      dtype=float32)"
      ]
     },
     "execution_count": 8,
     "metadata": {},
     "output_type": "execute_result"
    }
   ],
   "source": [
    "DNN.weights[0].numpy().mean(axis=1)"
   ]
  },
  {
   "cell_type": "code",
   "execution_count": null,
   "id": "0c2b18a0-9002-4609-ba4f-95a2d8cd62b0",
   "metadata": {},
   "outputs": [],
   "source": [
    "#['CONSRANK_val','CP_HLPL','CP_MJ3h','DDG_V','CP_RMFCA','AP_GOAP_DF']\n",
    "scoring_functions_rfc = ['CONSRANK_val', 'CP_HLPL', 'CP_MJ3h', 'DDG_V', 'CP_RMFCA', 'AP_GOAP_DF','PRC','TF2']\n",
    "scoring_functions_nnc = ['CONSRANK_val', 'CP_HLPL', 'CP_MJ3h', 'DDG_V', 'CP_RMFCA', 'AP_GOAP_DF','TF2','RFC']\n",
    "scoring_functions_dnn = ['CONSRANK_val', 'CP_HLPL', 'CP_MJ3h', 'DDG_V', 'CP_RMFCA', 'AP_GOAP_DF','RFC','PRC']"
   ]
  },
  {
   "cell_type": "code",
   "execution_count": null,
   "id": "3661efed-70c7-438f-82c1-708534c3b3aa",
   "metadata": {},
   "outputs": [],
   "source": [
    "feat_rfc = pd.DataFrame([RFC.feature_importances_] , columns= scoring_functions_rfc ) "
   ]
  },
  {
   "cell_type": "code",
   "execution_count": null,
   "id": "c9fbb25c-e92a-42c4-b941-8bfffc4c3a97",
   "metadata": {},
   "outputs": [],
   "source": [
    "feat_nnc = pd.DataFrame([NCC.coefs_[0].mean(axis=1)] , columns= scoring_functions_nnc ) "
   ]
  },
  {
   "cell_type": "code",
   "execution_count": null,
   "id": "f7b19d4f-625b-4614-b619-e60d16bdb723",
   "metadata": {},
   "outputs": [],
   "source": [
    "feat_dnn = pd.DataFrame([DNN.weights[0].numpy().mean(axis=1)] , columns= scoring_functions_dnn  ) "
   ]
  },
  {
   "cell_type": "code",
   "execution_count": null,
   "id": "ec620e06-c5dc-4658-9b23-a895361f4ec1",
   "metadata": {},
   "outputs": [
    {
     "name": "stdout",
     "output_type": "stream",
     "text": [
      ",,CONSRANK_val,CP_HLPL,CP_MJ3h,DDG_V,CP_RMFCA,AP_GOAP_DF,PRC,TF2,RFC\n",
      "RFC,0,0.14005727079365152,0.17810913555857397,0.0734943950476807,0.16473502371583007,0.19207642835705954,0.17126157363234124,0.03663920296381242,0.04362696993105059,\n",
      "PRC,0,-24.460216806514534,1.1747896372436857,0.08034624261817729,0.47741978768274135,-1.7050382654894267,0.9351304058375213,,-10.868754355128905,2.236822319630757\n",
      "TF2,0,-8.320362091064453,-0.23365001380443573,0.12053961306810379,-0.0010901808273047209,0.14162257313728333,-0.29330578446388245,-12.443406105041504,,-0.2158188819885254\n",
      "\n"
     ]
    }
   ],
   "source": [
    "print ( pd.concat( [ feat_rfc, feat_nnc,feat_dnn], keys=['RFC','PRC','TF2']  ).to_csv() ) "
   ]
  },
  {
   "cell_type": "code",
   "execution_count": null,
   "id": "ee956e5a-63b4-439e-9adf-b9c6df61ec65",
   "metadata": {},
   "outputs": [],
   "source": [
    "std_nnc = pd.DataFrame([NCC.coefs_[0].std(axis=1)] , columns= scoring_functions_nnc ) \n",
    "std_dnn = pd.DataFrame([DNN.weights[0].numpy().std(axis=1)] , columns= scoring_functions_dnn  ) "
   ]
  },
  {
   "cell_type": "code",
   "execution_count": null,
   "id": "33d7bf1a-ed9c-4f16-b2b8-78c3925f6e8d",
   "metadata": {},
   "outputs": [
    {
     "name": "stdout",
     "output_type": "stream",
     "text": [
      ",,CONSRANK_val,CP_HLPL,CP_MJ3h,DDG_V,CP_RMFCA,AP_GOAP_DF,TF2,RFC,PRC\n",
      "RFC,0,100.40340480131522,6.181770171625957,9.60943994866173,1.075231435534565,8.908526095249519,6.297612816545122,44.57958898586778,5.42285586398655,\n",
      "PRC,0,24.050437927246094,0.8232786655426025,1.1670814752578735,0.9230668544769287,0.8240094184875488,0.8765534162521362,,0.7926988005638123,16.545391\n",
      "\n"
     ]
    }
   ],
   "source": [
    "print ( pd.concat( [ std_nnc,std_dnn ], keys=['RFC','PRC','TF2']  ).to_csv() ) "
   ]
  },
  {
   "cell_type": "code",
   "execution_count": null,
   "id": "32781c62-d8cc-459e-9a91-29aeac3590ba",
   "metadata": {},
   "outputs": [
    {
     "data": {
      "text/html": [
       "<div>\n",
       "<style scoped>\n",
       "    .dataframe tbody tr th:only-of-type {\n",
       "        vertical-align: middle;\n",
       "    }\n",
       "\n",
       "    .dataframe tbody tr th {\n",
       "        vertical-align: top;\n",
       "    }\n",
       "\n",
       "    .dataframe thead th {\n",
       "        text-align: right;\n",
       "    }\n",
       "</style>\n",
       "<table border=\"1\" class=\"dataframe\">\n",
       "  <thead>\n",
       "    <tr style=\"text-align: right;\">\n",
       "      <th></th>\n",
       "      <th></th>\n",
       "      <th>CONSRANK_val</th>\n",
       "      <th>CP_HLPL</th>\n",
       "      <th>CP_MJ3h</th>\n",
       "      <th>DDG_V</th>\n",
       "      <th>CP_RMFCA</th>\n",
       "      <th>AP_GOAP_DF</th>\n",
       "      <th>TF2</th>\n",
       "      <th>RFC</th>\n",
       "      <th>PRC</th>\n",
       "    </tr>\n",
       "  </thead>\n",
       "  <tbody>\n",
       "    <tr>\n",
       "      <th>PRC</th>\n",
       "      <th>0</th>\n",
       "      <td>100.403405</td>\n",
       "      <td>6.181770</td>\n",
       "      <td>9.609440</td>\n",
       "      <td>1.075231</td>\n",
       "      <td>8.908526</td>\n",
       "      <td>6.297613</td>\n",
       "      <td>44.579589</td>\n",
       "      <td>5.422856</td>\n",
       "      <td>NaN</td>\n",
       "    </tr>\n",
       "    <tr>\n",
       "      <th>TF2</th>\n",
       "      <th>0</th>\n",
       "      <td>24.050438</td>\n",
       "      <td>0.823279</td>\n",
       "      <td>1.167081</td>\n",
       "      <td>0.923067</td>\n",
       "      <td>0.824009</td>\n",
       "      <td>0.876553</td>\n",
       "      <td>NaN</td>\n",
       "      <td>0.792699</td>\n",
       "      <td>16.545391</td>\n",
       "    </tr>\n",
       "  </tbody>\n",
       "</table>\n",
       "</div>"
      ],
      "text/plain": [
       "       CONSRANK_val   CP_HLPL   CP_MJ3h     DDG_V  CP_RMFCA  AP_GOAP_DF  \\\n",
       "PRC 0    100.403405  6.181770  9.609440  1.075231  8.908526    6.297613   \n",
       "TF2 0     24.050438  0.823279  1.167081  0.923067  0.824009    0.876553   \n",
       "\n",
       "             TF2       RFC        PRC  \n",
       "PRC 0  44.579589  5.422856        NaN  \n",
       "TF2 0        NaN  0.792699  16.545391  "
      ]
     },
     "execution_count": 19,
     "metadata": {},
     "output_type": "execute_result"
    }
   ],
   "source": [
    "pd.concat( [ std_nnc,std_dnn ], keys=['PRC','TF2'] )"
   ]
  },
  {
   "cell_type": "code",
   "execution_count": null,
   "id": "2bead2ad-d5b9-4c26-80a1-f8b8fe59acbb",
   "metadata": {},
   "outputs": [
    {
     "data": {
      "text/html": [
       "<div>\n",
       "<style scoped>\n",
       "    .dataframe tbody tr th:only-of-type {\n",
       "        vertical-align: middle;\n",
       "    }\n",
       "\n",
       "    .dataframe tbody tr th {\n",
       "        vertical-align: top;\n",
       "    }\n",
       "\n",
       "    .dataframe thead th {\n",
       "        text-align: right;\n",
       "    }\n",
       "</style>\n",
       "<table border=\"1\" class=\"dataframe\">\n",
       "  <thead>\n",
       "    <tr style=\"text-align: right;\">\n",
       "      <th></th>\n",
       "      <th></th>\n",
       "      <th>CONSRANK_val</th>\n",
       "      <th>CP_HLPL</th>\n",
       "      <th>CP_MJ3h</th>\n",
       "      <th>DDG_V</th>\n",
       "      <th>CP_RMFCA</th>\n",
       "      <th>AP_GOAP_DF</th>\n",
       "      <th>PRC</th>\n",
       "      <th>TF2</th>\n",
       "      <th>RFC</th>\n",
       "    </tr>\n",
       "  </thead>\n",
       "  <tbody>\n",
       "    <tr>\n",
       "      <th>RFC</th>\n",
       "      <th>0</th>\n",
       "      <td>0.140057</td>\n",
       "      <td>0.178109</td>\n",
       "      <td>0.073494</td>\n",
       "      <td>0.164735</td>\n",
       "      <td>0.192076</td>\n",
       "      <td>0.171262</td>\n",
       "      <td>0.036639</td>\n",
       "      <td>0.043627</td>\n",
       "      <td>NaN</td>\n",
       "    </tr>\n",
       "    <tr>\n",
       "      <th>PRC</th>\n",
       "      <th>0</th>\n",
       "      <td>-24.460217</td>\n",
       "      <td>1.174790</td>\n",
       "      <td>0.080346</td>\n",
       "      <td>0.477420</td>\n",
       "      <td>-1.705038</td>\n",
       "      <td>0.935130</td>\n",
       "      <td>NaN</td>\n",
       "      <td>-10.868754</td>\n",
       "      <td>2.236822</td>\n",
       "    </tr>\n",
       "    <tr>\n",
       "      <th>TF2</th>\n",
       "      <th>0</th>\n",
       "      <td>-8.320362</td>\n",
       "      <td>-0.233650</td>\n",
       "      <td>0.120540</td>\n",
       "      <td>-0.001090</td>\n",
       "      <td>0.141623</td>\n",
       "      <td>-0.293306</td>\n",
       "      <td>-12.443406</td>\n",
       "      <td>NaN</td>\n",
       "      <td>-0.215819</td>\n",
       "    </tr>\n",
       "  </tbody>\n",
       "</table>\n",
       "</div>"
      ],
      "text/plain": [
       "       CONSRANK_val   CP_HLPL   CP_MJ3h     DDG_V  CP_RMFCA  AP_GOAP_DF  \\\n",
       "RFC 0      0.140057  0.178109  0.073494  0.164735  0.192076    0.171262   \n",
       "PRC 0    -24.460217  1.174790  0.080346  0.477420 -1.705038    0.935130   \n",
       "TF2 0     -8.320362 -0.233650  0.120540 -0.001090  0.141623   -0.293306   \n",
       "\n",
       "             PRC        TF2       RFC  \n",
       "RFC 0   0.036639   0.043627       NaN  \n",
       "PRC 0        NaN -10.868754  2.236822  \n",
       "TF2 0 -12.443406        NaN -0.215819  "
      ]
     },
     "execution_count": 20,
     "metadata": {},
     "output_type": "execute_result"
    }
   ],
   "source": [
    "pd.concat( [ feat_rfc, feat_nnc,feat_dnn], keys=['RFC','PRC','TF2']  ).T"
   ]
  },
  {
   "cell_type": "code",
   "execution_count": null,
   "id": "978f22d8-73de-4c3f-ace5-ae9d84f2b181",
   "metadata": {},
   "outputs": [],
   "source": []
  }
 ],
 "metadata": {
  "kernelspec": {
   "display_name": "ml-module",
   "language": "python",
   "name": "python3"
  },
  "language_info": {
   "codemirror_mode": {
    "name": "ipython",
    "version": 3
   },
   "file_extension": ".py",
   "mimetype": "text/x-python",
   "name": "python",
   "nbconvert_exporter": "python",
   "pygments_lexer": "ipython3",
   "version": "3.9.15"
  },
  "vscode": {
   "interpreter": {
    "hash": "87b1768c10be84fdd1ddeb630f61d152c8c6ef441ce5df32a6fe3c96debb7252"
   }
  }
 },
 "nbformat": 4,
 "nbformat_minor": 5
}
